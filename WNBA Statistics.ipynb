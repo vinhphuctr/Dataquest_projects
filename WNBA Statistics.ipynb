{
 "cells": [
  {
   "cell_type": "markdown",
   "metadata": {},
   "source": [
    "# Women's National Basketball Association statistics"
   ]
  },
  {
   "cell_type": "markdown",
   "metadata": {},
   "source": [
    "We are working with WNBAthe WNBA dataset, containing general information about female players, along with their metrics for the season 2016 - 2017. The `WNBA Stats.csv` can be downloaded from [Kaggle](https://www.kaggle.com/jinxbe/wnba-player-stats-2017).\n",
    "\n",
    "We are using some simple statistical tools to explore the data, focusing on **sampling**."
   ]
  },
  {
   "cell_type": "markdown",
   "metadata": {},
   "source": [
    "## Get familiar with the dataset"
   ]
  },
  {
   "cell_type": "code",
   "execution_count": 25,
   "metadata": {},
   "outputs": [
    {
     "name": "stdout",
     "output_type": "stream",
     "text": [
      "              Name Team  Pos  Height  Weight        BMI Birth_Place  \\\n",
      "0    Aerial Powers  DAL    F     183    71.0  21.200991          US   \n",
      "1      Alana Beard   LA  G/F     185    73.0  21.329438          US   \n",
      "2     Alex Bentley  CON    G     170    69.0  23.875433          US   \n",
      "3  Alex Montgomery  SAN  G/F     185    84.0  24.543462          US   \n",
      "4     Alexis Jones  MIN    G     175    78.0  25.469388          US   \n",
      "\n",
      "           Birthdate  Age         College Experience  Games Played  MIN  FGM  \\\n",
      "0   January 17, 1994   23  Michigan State          2             8  173   30   \n",
      "1       May 14, 1982   35            Duke         12            30  947   90   \n",
      "2   October 27, 1990   26      Penn State          4            26  617   82   \n",
      "3  December 11, 1988   28    Georgia Tech          6            31  721   75   \n",
      "4     August 5, 1994   23          Baylor          R            24  137   16   \n",
      "\n",
      "   FGA   FG%  15:00  3PA   3P%  FTM  FTA   FT%  OREB  DREB  REB  AST  STL  \\\n",
      "0   85  35.3     12   32  37.5   21   26  80.8     6    22   28   12    3   \n",
      "1  177  50.8      5   18  27.8   32   41  78.0    19    82  101   72   63   \n",
      "2  218  37.6     19   64  29.7   35   42  83.3     4    36   40   78   22   \n",
      "3  195  38.5     21   68  30.9   17   21  81.0    35   134  169   65   20   \n",
      "4   50  32.0      7   20  35.0   11   12  91.7     3     9   12   12    7   \n",
      "\n",
      "   BLK  TO  PTS  DD2  TD3  \n",
      "0    6  12   93    0    0  \n",
      "1   13  40  217    0    0  \n",
      "2    3  24  218    0    0  \n",
      "3   10  38  188    2    0  \n",
      "4    0  14   50    0    0  \n",
      "                 Name Team  Pos  Height  Weight        BMI Birth_Place  \\\n",
      "138     Tiffany Hayes  ATL    G     178    70.0  22.093170          US   \n",
      "139   Tiffany Jackson   LA    F     191    84.0  23.025685          US   \n",
      "140  Tiffany Mitchell  IND    G     175    69.0  22.530612          US   \n",
      "141      Tina Charles   NY  F/C     193    84.0  22.550941          US   \n",
      "142     Yvonne Turner  PHO    G     175    59.0  19.265306          US   \n",
      "\n",
      "              Birthdate  Age         College Experience  Games Played  MIN  \\\n",
      "138  September 20, 1989   27     Connecticut          6            29  861   \n",
      "139      April 26, 1985   32           Texas          9            22  127   \n",
      "140  September 23, 1984   32  South Carolina          2            27  671   \n",
      "141        May 12, 1988   29     Connecticut          8            29  952   \n",
      "142    October 13, 1987   29        Nebraska          2            30  356   \n",
      "\n",
      "     FGM  FGA   FG%  15:00  3PA   3P%  FTM  FTA   FT%  OREB  DREB  REB  AST  \\\n",
      "138  144  331  43.5     43  112  38.4  136  161  84.5    28    89  117   69   \n",
      "139   12   25  48.0      0    1   0.0    4    6  66.7     5    18   23    3   \n",
      "140   83  238  34.9     17   69  24.6   94  102  92.2    16    70   86   39   \n",
      "141  227  509  44.6     18   56  32.1  110  135  81.5    56   212  268   75   \n",
      "142   59  140  42.1     11   47  23.4   22   28  78.6    11    13   24   30   \n",
      "\n",
      "     STL  BLK  TO  PTS  DD2  TD3  \n",
      "138   37    8  50  467    0    0  \n",
      "139    1    3   8   28    0    0  \n",
      "140   31    5  40  277    0    0  \n",
      "141   21   22  71  582   11    0  \n",
      "142   18    1  32  151    0    0  \n",
      "(143, 32)\n"
     ]
    }
   ],
   "source": [
    "import pandas as pd\n",
    "import matplotlib.pyplot as plt\n",
    "pd.set_option(\"max_columns\",100)\n",
    "%matplotlib inline\n",
    "\n",
    "wnba = pd.read_csv('WNBA Stats.csv')\n",
    "print(wnba.head())\n",
    "print(wnba.tail())\n",
    "print(wnba.shape)"
   ]
  },
  {
   "cell_type": "markdown",
   "metadata": {},
   "source": [
    "There are totally 143 players in the season 2016-2017, being represented with their information about the team, game position, physical details, age, place of birth, experience, game statistics, ..."
   ]
  },
  {
   "cell_type": "markdown",
   "metadata": {},
   "source": [
    "## Sampling error"
   ]
  },
  {
   "cell_type": "markdown",
   "metadata": {},
   "source": [
    "**parameter** : a metric specific to a population\n",
    "\n",
    "**statistic** : a metric specific to a sample\n",
    "\n",
    "**sampling error = parameter - statistic**\n"
   ]
  },
  {
   "cell_type": "markdown",
   "metadata": {},
   "source": [
    "Finding the sampling error of the maximum number of games played by a player"
   ]
  },
  {
   "cell_type": "code",
   "execution_count": 4,
   "metadata": {},
   "outputs": [
    {
     "name": "stdout",
     "output_type": "stream",
     "text": [
      "32\n",
      "30\n"
     ]
    },
    {
     "data": {
      "text/plain": [
       "2"
      ]
     },
     "execution_count": 4,
     "metadata": {},
     "output_type": "execute_result"
    }
   ],
   "source": [
    "# finding the maximum number of games played by the population \n",
    "parameter = wnba['Games Played'].max()\n",
    "\n",
    "# take a sample randomly of 30 players from the population\n",
    "sample = wnba['Games Played'].sample(30, random_state=1)\n",
    "\n",
    "# fiding the maximum number of games played by a sample\n",
    "statistic = sample.max()\n",
    "\n",
    "sampling_error = parameter - statistic\n",
    "print(parameter)\n",
    "print(statistic)\n",
    "sampling_error"
   ]
  },
  {
   "cell_type": "markdown",
   "metadata": {},
   "source": [
    "The maximum games played by the population is 32. While one played by the sample is 30. So there is a sampling error of 2. \n",
    "\n",
    "When we sample we want to mimimize the sampling error as much as possible. In other words, we want our sample to mirror the population as closely as possible.\n",
    "\n",
    "In statistical terms, we want our samples to be **representative** of their corresponding populations. If a sample is representative, then the sampling error is low.\n",
    "\n",
    "To make our samples representative, we can try to give every individual in the population an equal chance to be selected in our samples, so we need to sample randomly."
   ]
  },
  {
   "cell_type": "markdown",
   "metadata": {},
   "source": [
    "## Simple random sampling (SRS)"
   ]
  },
  {
   "cell_type": "markdown",
   "metadata": {},
   "source": [
    "One way to perform SRS is to generate random numbers and use them to select a few sample units from the population.\n",
    "\n",
    "Experiencing with the column `PTS`, the points scored by a player during the 2016-2017 season."
   ]
  },
  {
   "cell_type": "code",
   "execution_count": 44,
   "metadata": {},
   "outputs": [
    {
     "data": {
      "image/png": "[encoded data removed]",
      "text/plain": [
       "<Figure size 432x288 with 1 Axes>"
      ]
     },
     "metadata": {
      "needs_background": "light"
     },
     "output_type": "display_data"
    }
   ],
   "source": [
    "# take 100 samples of 10 values from the PTS column, and for each sample measure the average points scored by a player.\n",
    "sample_means = []\n",
    "\n",
    "for n in range(100):\n",
    "    sample = wnba['PTS'].sample(10, random_state=n)\n",
    "    avg = sample.mean()\n",
    "    sample_means.append(avg)\n",
    "\n",
    "# find the average points of the population\n",
    "population_mean = wnba['PTS'].mean()\n",
    "\n",
    "# plot the discrepancy\n",
    "plt.scatter(range(1,101), sample_means)\n",
    "plt.axhline(population_mean, label='Population mean')\n",
    "plt.ylim(100,350)\n",
    "plt.xlabel('Sample number')\n",
    "plt.ylabel('Average points')\n",
    "plt.title('Simple Random Sampling')\n",
    "plt.legend(loc='upper right')\n",
    "plt.show()"
   ]
  },
  {
   "cell_type": "code",
   "execution_count": 11,
   "metadata": {},
   "outputs": [
    {
     "name": "stdout",
     "output_type": "stream",
     "text": [
      "301.4\n",
      "115.0\n",
      "201.7902097902098\n"
     ]
    }
   ],
   "source": [
    "print(max(sample_means))\n",
    "print(min(sample_means))\n",
    "print(population_mean)"
   ]
  },
  {
   "cell_type": "markdown",
   "metadata": {},
   "source": [
    "From the scatter plot, we can notice that the sample means vary a lot around the population mean. With a minimum sample mean of 115 pts, a maximum of 301.4 pts, and a population mean of roughly 201.8, we can tell that the sampling error is quite large for some of the cases. So there is a good chance that we get samples that are not representative of the population.\n",
    "\n",
    "To avoid a large sampling error, we need **increase the sample size**. \n",
    "\n",
    "**The greater the sample size, the more similar the sample is comparing to the population, so the lower the chance of getting unrepresentative samples.**\n",
    "\n",
    "So this time, let's increase the sample size respectively by 40, 80 and 100."
   ]
  },
  {
   "cell_type": "code",
   "execution_count": 20,
   "metadata": {},
   "outputs": [
    {
     "data": {
      "image/png": "[encoded data removed]",
      "text/plain": [
       "<Figure size 432x288 with 1 Axes>"
      ]
     },
     "metadata": {
      "needs_background": "light"
     },
     "output_type": "display_data"
    },
    {
     "name": "stdout",
     "output_type": "stream",
     "text": [
      "None\n"
     ]
    },
    {
     "data": {
      "image/png": "[encoded data removed]",
      "text/plain": [
       "<Figure size 432x288 with 1 Axes>"
      ]
     },
     "metadata": {
      "needs_background": "light"
     },
     "output_type": "display_data"
    },
    {
     "name": "stdout",
     "output_type": "stream",
     "text": [
      "None\n"
     ]
    },
    {
     "data": {
      "image/png": "[encoded data removed]",
      "text/plain": [
       "<Figure size 432x288 with 1 Axes>"
      ]
     },
     "metadata": {
      "needs_background": "light"
     },
     "output_type": "display_data"
    },
    {
     "name": "stdout",
     "output_type": "stream",
     "text": [
      "None\n"
     ]
    }
   ],
   "source": [
    "def sample_mean(size):\n",
    "    sample_means = []\n",
    "    for n in range(100):\n",
    "        sample = wnba['PTS'].sample(size, random_state=n)\n",
    "        avg = sample.mean()\n",
    "        sample_means.append(avg)\n",
    "    \n",
    "    population_mean = wnba['PTS'].mean()\n",
    "    \n",
    "    plt.scatter(range(1,101), sample_means)\n",
    "    plt.title('Sample size of ' + str(size))\n",
    "    plt.ylim(100,330)\n",
    "    plt.axhline(population_mean)\n",
    "    plt.show()\n",
    "\n",
    "print(sample_mean(40))\n",
    "print(sample_mean(80))\n",
    "print(sample_mean(100))"
   ]
  },
  {
   "cell_type": "markdown",
   "metadata": {},
   "source": [
    "We can see that when increasing the sample size, the sampling error is significantly dropping. Another way to speak, the average points scored of every sample is as closer as possible to the population's one."
   ]
  },
  {
   "cell_type": "markdown",
   "metadata": {},
   "source": [
    "## Stratified Sampling"
   ]
  },
  {
   "cell_type": "markdown",
   "metadata": {},
   "source": [
    "Another problem revealed: if we perform simple random sampling in a general manner, there's a chance that some categories won't be included in our sample, because the metrics of a player (number of points, number of assists,...) depend on their position.\n",
    "\n",
    "In other words, it's not guaranteed that we'll have a representative sample that has observations for every positions we want to analyze."
   ]
  },
  {
   "cell_type": "code",
   "execution_count": 23,
   "metadata": {},
   "outputs": [
    {
     "data": {
      "text/plain": [
       "array(['F', 'G/F', 'G', 'C', 'F/C'], dtype=object)"
      ]
     },
     "execution_count": 23,
     "metadata": {},
     "output_type": "execute_result"
    }
   ],
   "source": [
    "wnba['Pos'].unique()"
   ]
  },
  {
   "cell_type": "markdown",
   "metadata": {},
   "source": [
    "There are 5 positions in a basketball game, which are:\n",
    "\n",
    "|Abbreviation       |Full name           |\n",
    "|-------------------|--------------------|\n",
    "|F                  |Forward             |\n",
    "|G/F                |Guard/Forward       |\n",
    "|G                  |Guard               |\n",
    "|C                  |Center              |\n",
    "|F/C                |Forward/Center      |\n",
    "\n",
    "To ensure we end up with a sample that has observations for all the categories of interest, we can change the sampling method. We can organize our data set into different groups, and then do a SRS for every group. For instance, we are **stratifying** the data **by player position**, and then SRS each group.\n",
    "\n",
    "This method is called **stratified sampling**, and each stratified group is aka **stratum**."
   ]
  },
  {
   "cell_type": "code",
   "execution_count": 26,
   "metadata": {},
   "outputs": [
    {
     "data": {
      "text/plain": [
       "{'C': 9.833761394334251,\n",
       " 'F': 8.702175158545568,\n",
       " 'F/C': 9.059118773946361,\n",
       " 'G': 7.092926195632343,\n",
       " 'GF': 6.817264935760487}"
      ]
     },
     "execution_count": 26,
     "metadata": {},
     "output_type": "execute_result"
    }
   ],
   "source": [
    "# create a new column that describes the number of points a player scored per game during the season\n",
    "wnba['pts_per_game'] = wnba['PTS'] / wnba['Games Played']\n",
    "\n",
    "# stratify the data set by player position\n",
    "stratum_C = wnba[wnba['Pos'] == 'C']\n",
    "stratum_F = wnba[wnba['Pos'] == 'F']\n",
    "stratum_FC = wnba[wnba['Pos'] == 'F/C']\n",
    "stratum_G = wnba[wnba['Pos'] == 'G']\n",
    "stratum_GF = wnba[wnba['Pos'] == 'G/F']\n",
    "\n",
    "# loop through the strata, for each stratum, sample 10 observations using SRS\n",
    "stratum_pos = [\n",
    "    (stratum_C, 'C'),\n",
    "    (stratum_F, 'F'),\n",
    "    (stratum_FC, 'F/C'),\n",
    "    (stratum_G, 'G'),\n",
    "    (stratum_GF, 'GF')\n",
    "]\n",
    "\n",
    "sample_mean = {}\n",
    "\n",
    "for stratum, position in stratum_pos:\n",
    "    sample = stratum['pts_per_game'].sample(10, random_state=0)\n",
    "    sample_mean[position] = sample.mean()\n",
    "\n",
    "sample_mean"
   ]
  },
  {
   "cell_type": "code",
   "execution_count": 27,
   "metadata": {},
   "outputs": [
    {
     "data": {
      "text/plain": [
       "'C'"
      ]
     },
     "execution_count": 27,
     "metadata": {},
     "output_type": "execute_result"
    }
   ],
   "source": [
    "# find the most scored position among the 5\n",
    "position_most_scored = max(sample_mean, key=sample_mean.get)\n",
    "position_most_scored"
   ]
  },
  {
   "cell_type": "markdown",
   "metadata": {},
   "source": [
    "## Proportional Stratified Sampling"
   ]
  },
  {
   "cell_type": "markdown",
   "metadata": {},
   "source": [
    "Let's take a look at the percentages of games played during the season"
   ]
  },
  {
   "cell_type": "code",
   "execution_count": 28,
   "metadata": {},
   "outputs": [
    {
     "data": {
      "text/plain": [
       "(22.0, 32.0]     72.727273\n",
       "(12.0, 22.0]     18.181818\n",
       "(1.969, 12.0]     9.090909\n",
       "Name: Games Played, dtype: float64"
      ]
     },
     "execution_count": 28,
     "metadata": {},
     "output_type": "execute_result"
    }
   ],
   "source": [
    "wnba['Games Played'].value_counts(bins=3, normalize=True) * 100"
   ]
  },
  {
   "cell_type": "markdown",
   "metadata": {},
   "source": [
    "Appromximately 73% of the players had played more than 23 games for this season, which means that the mean of the total points is probably influenced by this category of players wo played a lot of games. The next interval including those who played from 13 to 22 games holds 18%, and the last one including who played less than 12 games represent 9%. \n",
    "\n",
    "However, when we sample randomly, we can end up with a sample where the proprotions are different than in the population. For instance, we might end up with 2 cases:\n",
    "- in the one hand, a sample where only 2% of the players played more than 23 games. This result **underestimates** the population mean because it is supposed to take more over-23-games players into account than usual.\n",
    "- in the other hand, a sample where more than 97% of the players had 23 games in this season. This result **overestimates** the population mean because it is supposed to include players who played much less.\n",
    "\n",
    "One solution to this problem is to use **stratified sampling while being mindful of the proportions in the population**."
   ]
  },
  {
   "cell_type": "code",
   "execution_count": 45,
   "metadata": {},
   "outputs": [
    {
     "data": {
      "image/png": "[encoded data removed]",
      "text/plain": [
       "<Figure size 432x288 with 1 Axes>"
      ]
     },
     "metadata": {
      "needs_background": "light"
     },
     "output_type": "display_data"
    }
   ],
   "source": [
    "# stratify data by number of games played\n",
    "under_12 = wnba[wnba['Games Played'] <= 12]\n",
    "btw_13_22 = wnba[(wnba['Games Played'] > 12) & (wnba['Games Played'] <= 22)]\n",
    "over_23 = wnba[wnba['Games Played'] > 22]\n",
    "\n",
    "# Do random sampling 1OO times with sample values of 10: \n",
    "# for each strata, sample each stratum proportionally with the size ratio 1:2:7\n",
    "# (the size of the final sample is 10)\n",
    "propor_sample_means = []\n",
    "\n",
    "for n in range(100):\n",
    "    sample_1 = under_12['PTS'].sample(1, random_state=n)\n",
    "    sample_2 = btw_13_22['PTS'].sample(2, random_state=n)\n",
    "    sample_3 = over_23['PTS'].sample(7, random_state=n)\n",
    "    sample_final = pd.concat([sample_1, sample_2, sample_3])\n",
    "    propor_sample_means.append(sample_final.mean())\n",
    "\n",
    "plt.scatter(range(1,101), propor_sample_means)\n",
    "plt.axhline(wnba['PTS'].mean(), label='Population mean')\n",
    "plt.ylim(100,350)\n",
    "plt.xlabel('Sample number')\n",
    "plt.ylabel('Average points')\n",
    "plt.title('Stratified Sampling (With Sampling Proportionally)')\n",
    "plt.legend(loc='upper right')\n",
    "plt.show()"
   ]
  },
  {
   "cell_type": "markdown",
   "metadata": {},
   "source": [
    "## Choosing the Right Data"
   ]
  },
  {
   "cell_type": "markdown",
   "metadata": {},
   "source": [
    "Let's comparing the 2 plots we've created"
   ]
  },
  {
   "cell_type": "code",
   "execution_count": 69,
   "metadata": {},
   "outputs": [
    {
     "data": {
      "image/png": "[encoded data removed]",
      "text/plain": [
       "<Figure size 1080x720 with 2 Axes>"
      ]
     },
     "metadata": {
      "needs_background": "light"
     },
     "output_type": "display_data"
    }
   ],
   "source": [
    "fig = plt.figure(figsize=(15,10))\n",
    "    \n",
    "ax1 = fig.add_subplot(2,2,1)\n",
    "ax1.scatter(range(1,101), propor_sample_means)\n",
    "ax1.axhline(wnba['PTS'].mean(), label='Population mean')\n",
    "ax1.set_ylim(100,350)\n",
    "ax1.set_xlabel('Sample number')\n",
    "ax1.set_ylabel('Average points')\n",
    "ax1.set_title('Stratified Sampling (With Sampling Proportionally)')\n",
    "ax1.legend(loc='upper right')\n",
    "\n",
    "ax2 = fig.add_subplot(2,2,2)\n",
    "ax2.scatter(range(1,101), sample_means)\n",
    "ax2.axhline(population_mean, label='Population mean')\n",
    "ax2.set_ylim(100,350)\n",
    "ax2.set_xlabel('Sample number')\n",
    "ax2.set_ylabel('Average points')\n",
    "ax2.set_title('Simple Random Sampling')\n",
    "ax2.legend(loc='upper right')\n",
    "\n",
    "plt.show()"
   ]
  },
  {
   "cell_type": "markdown",
   "metadata": {},
   "source": [
    "The variability of the stratified sampling is quite large, and many sample means were unrepresentative, being far from the population mean. In fact, this sampling method doesn't seem to perform better than simple random sampling.\n",
    "\n",
    "Even if a player only played one or for minutes during a game, she is considered as \"having played one game\". While others play 30 or 40 minutes, they are still considered as having played one game. It makes more sense to stratify the data by **number of minutes played**, rather than by number of games played. The minutes played are a much better indicator of how much a player scored in a season than the other ones."
   ]
  },
  {
   "cell_type": "code",
   "execution_count": 66,
   "metadata": {},
   "outputs": [
    {
     "data": {
      "text/plain": [
       "(347.333, 682.667]    34.965035\n",
       "(10.993, 347.333]     33.566434\n",
       "(682.667, 1018.0]     31.468531\n",
       "Name: MIN, dtype: float64"
      ]
     },
     "execution_count": 66,
     "metadata": {},
     "output_type": "execute_result"
    }
   ],
   "source": [
    "wnba['MIN'].value_counts(bins=3, normalize=True)*100"
   ]
  },
  {
   "cell_type": "code",
   "execution_count": 73,
   "metadata": {},
   "outputs": [
    {
     "data": {
      "image/png": "[encoded data removed]",
      "text/plain": [
       "<Figure size 1080x864 with 3 Axes>"
      ]
     },
     "metadata": {
      "needs_background": "light"
     },
     "output_type": "display_data"
    }
   ],
   "source": [
    "under_347 = wnba[wnba['MIN']<=347.333]\n",
    "btw_348_682 = wnba[(wnba['MIN']>347.333) & (wnba['MIN']<=682.667)]\n",
    "over_682 = wnba[wnba['MIN']>682.667]\n",
    "\n",
    "pro_sample_means = []\n",
    "\n",
    "for n in range(100):\n",
    "    sample_1 = under_347['PTS'].sample(4, random_state=n)\n",
    "    sample_2 = btw_348_682['PTS'].sample(4, random_state=n)\n",
    "    sample_3 = over_682['PTS'].sample(3, random_state=n)\n",
    "    final_sample = pd.concat([sample_1, sample_2, sample_3])\n",
    "    pro_sample_means.append(final_sample.mean())\n",
    "    \n",
    "# let's compare this strata with the last ones.\n",
    "fig = plt.figure(figsize=(15,12))\n",
    "\n",
    "ax1 = fig.add_subplot(3,3,1)\n",
    "ax1.scatter(range(1,101), pro_sample_means)\n",
    "ax1.axhline(population_mean)\n",
    "ax1.set_ylim(100,350)\n",
    "ax1.set_ylabel('Average points')\n",
    "ax1.set_title('Stratified Sampling (Minutes Played)')\n",
    "\n",
    "ax2 = fig.add_subplot(3,3,2)\n",
    "ax2.scatter(range(1,101), sample_means)\n",
    "ax2.axhline(population_mean, label='Population mean')\n",
    "ax2.set_ylim(100,350)\n",
    "ax2.set_xlabel('Sample number')\n",
    "ax2.set_title('Simple Random Sampling')\n",
    "ax2.legend(loc='upper right')\n",
    "\n",
    "ax3 = fig.add_subplot(3,3,3)\n",
    "ax3.scatter(range(1,101), propor_sample_means)\n",
    "ax3.axhline(population_mean)\n",
    "ax3.set_ylim(100,350)\n",
    "ax3.set_title('Stratified Sampling (Games Played)')\n",
    "\n",
    "plt.show()"
   ]
  },
  {
   "cell_type": "markdown",
   "metadata": {},
   "source": [
    "The stratified sampling by minutes played is actually much more relevant than the 2 other sampling methods."
   ]
  },
  {
   "cell_type": "markdown",
   "metadata": {},
   "source": [
    "## Cluster Sampling"
   ]
  },
  {
   "cell_type": "code",
   "execution_count": 75,
   "metadata": {},
   "outputs": [
    {
     "data": {
      "text/plain": [
       "array(['DAL', 'LA', 'CON', 'SAN', 'MIN', 'SEA', 'PHO', 'CHI', 'WAS', 'NY',\n",
       "       'ATL', 'IND'], dtype=object)"
      ]
     },
     "execution_count": 75,
     "metadata": {},
     "output_type": "execute_result"
    }
   ],
   "source": [
    "# list all of the team during this season\n",
    "team = wnba['Team'].unique()\n",
    "team"
   ]
  },
  {
   "cell_type": "code",
   "execution_count": 78,
   "metadata": {},
   "outputs": [
    {
     "name": "stdout",
     "output_type": "stream",
     "text": [
      "-0.06400121617511445\n",
      "-1.401337792642142\n",
      "0.23095444165950596\n",
      "-27.79674673152934\n"
     ]
    }
   ],
   "source": [
    "# pick up randomly 4 of the team\n",
    "clusters = pd.Series(team).sample(4, random_state=0)\n",
    "\n",
    "# make a new data set\n",
    "sample = pd.DataFrame()\n",
    "\n",
    "# collect data from the 4 teams picked and append them to the new data set\n",
    "for cluster in clusters:\n",
    "    data_collected = wnba[wnba['Team'] == cluster]\n",
    "    sample = sample.append(data_collected)\n",
    "    \n",
    "# find the sampling error of the average of height, age, BMI and total points\n",
    "sampling_error_height = wnba['Height'].mean() - sample['Height'].mean()\n",
    "sampling_error_age = wnba['Age'].mean() - sample['Age'].mean()\n",
    "sampling_error_BMI = wnba['BMI'].mean() - sample['BMI'].mean()\n",
    "sampling_error_points = wnba['PTS'].mean() - sample['PTS'].mean()\n",
    "\n",
    "print(sampling_error_height)\n",
    "print(sampling_error_age)\n",
    "print(sampling_error_BMI)\n",
    "print(sampling_error_points)"
   ]
  }
 ],
 "metadata": {
  "kernelspec": {
   "display_name": "Python 3",
   "language": "python",
   "name": "python3"
  },
  "language_info": {
   "codemirror_mode": {
    "name": "ipython",
    "version": 3
   },
   "file_extension": ".py",
   "mimetype": "text/x-python",
   "name": "python",
   "nbconvert_exporter": "python",
   "pygments_lexer": "ipython3",
   "version": "3.7.1"
  }
 },
 "nbformat": 4,
 "nbformat_minor": 2
}
