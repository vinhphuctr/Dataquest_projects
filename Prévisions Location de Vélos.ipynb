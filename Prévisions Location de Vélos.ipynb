{
 "cells": [
  {
   "cell_type": "markdown",
   "metadata": {},
   "source": [
    "# Prévisions sur la location des vélos à Washington, D.C.#\n",
    "\n",
    "Comme plusieurs villes européennes, beaucoup de villes américaines possèdent des stations de vélos publiques, où vous pouvez louer un vélo pour une durée déterminée. Parmi ces villes, se trouve Washington,D.C.. Le District a collecté les données sur le nombre des vélos loués par heure dans la journée. \n",
    "\n",
    "Hadi Fanaee-T, de l'Université de Porto, a compilé ces données dans un fichier de CSV qui contient 17380 lignes, et chaque ligne représentent le nombre des vélos loués pour une heure dans la journée. Vous trouverez le fichier dans [les archives de l'Université de California](http://archive.ics.uci.edu/ml/datasets/Bike+Sharing+Dataset).\n",
    "\n",
    "Exposerons les premières lignes de l'ensemble des données."
   ]
  },
  {
   "cell_type": "code",
   "execution_count": 1,
   "metadata": {
    "scrolled": true
   },
   "outputs": [
    {
     "data": {
      "text/html": [
       "<div>\n",
       "<style scoped>\n",
       "    .dataframe tbody tr th:only-of-type {\n",
       "        vertical-align: middle;\n",
       "    }\n",
       "\n",
       "    .dataframe tbody tr th {\n",
       "        vertical-align: top;\n",
       "    }\n",
       "\n",
       "    .dataframe thead th {\n",
       "        text-align: right;\n",
       "    }\n",
       "</style>\n",
       "<table border=\"1\" class=\"dataframe\">\n",
       "  <thead>\n",
       "    <tr style=\"text-align: right;\">\n",
       "      <th></th>\n",
       "      <th>instant</th>\n",
       "      <th>dteday</th>\n",
       "      <th>season</th>\n",
       "      <th>yr</th>\n",
       "      <th>mnth</th>\n",
       "      <th>hr</th>\n",
       "      <th>holiday</th>\n",
       "      <th>weekday</th>\n",
       "      <th>workingday</th>\n",
       "      <th>weathersit</th>\n",
       "      <th>temp</th>\n",
       "      <th>atemp</th>\n",
       "      <th>hum</th>\n",
       "      <th>windspeed</th>\n",
       "      <th>casual</th>\n",
       "      <th>registered</th>\n",
       "      <th>cnt</th>\n",
       "    </tr>\n",
       "  </thead>\n",
       "  <tbody>\n",
       "    <tr>\n",
       "      <th>0</th>\n",
       "      <td>1</td>\n",
       "      <td>2011-01-01</td>\n",
       "      <td>1</td>\n",
       "      <td>0</td>\n",
       "      <td>1</td>\n",
       "      <td>0</td>\n",
       "      <td>0</td>\n",
       "      <td>6</td>\n",
       "      <td>0</td>\n",
       "      <td>1</td>\n",
       "      <td>0.24</td>\n",
       "      <td>0.2879</td>\n",
       "      <td>0.81</td>\n",
       "      <td>0.0</td>\n",
       "      <td>3</td>\n",
       "      <td>13</td>\n",
       "      <td>16</td>\n",
       "    </tr>\n",
       "    <tr>\n",
       "      <th>1</th>\n",
       "      <td>2</td>\n",
       "      <td>2011-01-01</td>\n",
       "      <td>1</td>\n",
       "      <td>0</td>\n",
       "      <td>1</td>\n",
       "      <td>1</td>\n",
       "      <td>0</td>\n",
       "      <td>6</td>\n",
       "      <td>0</td>\n",
       "      <td>1</td>\n",
       "      <td>0.22</td>\n",
       "      <td>0.2727</td>\n",
       "      <td>0.80</td>\n",
       "      <td>0.0</td>\n",
       "      <td>8</td>\n",
       "      <td>32</td>\n",
       "      <td>40</td>\n",
       "    </tr>\n",
       "    <tr>\n",
       "      <th>2</th>\n",
       "      <td>3</td>\n",
       "      <td>2011-01-01</td>\n",
       "      <td>1</td>\n",
       "      <td>0</td>\n",
       "      <td>1</td>\n",
       "      <td>2</td>\n",
       "      <td>0</td>\n",
       "      <td>6</td>\n",
       "      <td>0</td>\n",
       "      <td>1</td>\n",
       "      <td>0.22</td>\n",
       "      <td>0.2727</td>\n",
       "      <td>0.80</td>\n",
       "      <td>0.0</td>\n",
       "      <td>5</td>\n",
       "      <td>27</td>\n",
       "      <td>32</td>\n",
       "    </tr>\n",
       "    <tr>\n",
       "      <th>3</th>\n",
       "      <td>4</td>\n",
       "      <td>2011-01-01</td>\n",
       "      <td>1</td>\n",
       "      <td>0</td>\n",
       "      <td>1</td>\n",
       "      <td>3</td>\n",
       "      <td>0</td>\n",
       "      <td>6</td>\n",
       "      <td>0</td>\n",
       "      <td>1</td>\n",
       "      <td>0.24</td>\n",
       "      <td>0.2879</td>\n",
       "      <td>0.75</td>\n",
       "      <td>0.0</td>\n",
       "      <td>3</td>\n",
       "      <td>10</td>\n",
       "      <td>13</td>\n",
       "    </tr>\n",
       "    <tr>\n",
       "      <th>4</th>\n",
       "      <td>5</td>\n",
       "      <td>2011-01-01</td>\n",
       "      <td>1</td>\n",
       "      <td>0</td>\n",
       "      <td>1</td>\n",
       "      <td>4</td>\n",
       "      <td>0</td>\n",
       "      <td>6</td>\n",
       "      <td>0</td>\n",
       "      <td>1</td>\n",
       "      <td>0.24</td>\n",
       "      <td>0.2879</td>\n",
       "      <td>0.75</td>\n",
       "      <td>0.0</td>\n",
       "      <td>0</td>\n",
       "      <td>1</td>\n",
       "      <td>1</td>\n",
       "    </tr>\n",
       "  </tbody>\n",
       "</table>\n",
       "</div>"
      ],
      "text/plain": [
       "   instant      dteday  season  yr  mnth  hr  holiday  weekday  workingday  \\\n",
       "0        1  2011-01-01       1   0     1   0        0        6           0   \n",
       "1        2  2011-01-01       1   0     1   1        0        6           0   \n",
       "2        3  2011-01-01       1   0     1   2        0        6           0   \n",
       "3        4  2011-01-01       1   0     1   3        0        6           0   \n",
       "4        5  2011-01-01       1   0     1   4        0        6           0   \n",
       "\n",
       "   weathersit  temp   atemp   hum  windspeed  casual  registered  cnt  \n",
       "0           1  0.24  0.2879  0.81        0.0       3          13   16  \n",
       "1           1  0.22  0.2727  0.80        0.0       8          32   40  \n",
       "2           1  0.22  0.2727  0.80        0.0       5          27   32  \n",
       "3           1  0.24  0.2879  0.75        0.0       3          10   13  \n",
       "4           1  0.24  0.2879  0.75        0.0       0           1    1  "
      ]
     },
     "execution_count": 1,
     "metadata": {},
     "output_type": "execute_result"
    }
   ],
   "source": [
    "import pandas as pd\n",
    "bikes = pd.read_csv('hour.csv')\n",
    "bikes.head()"
   ]
  },
  {
   "cell_type": "markdown",
   "metadata": {},
   "source": [
    "Voici la description de chaque colonne:\n",
    "\n",
    "|Colonne|Description|\n",
    "|-----------|-----------|\n",
    "|`instant`|L'unique numéro d'identité pour chaque ligne|\n",
    "|`dteday`|La date de location|\n",
    "|`season`|La saison de location|\n",
    "|`yr`|L'année de location|\n",
    "|`mnth`|Le mois de location|\n",
    "|`holiday`|Est-ce le jour de vacances ? Oui = 1, Non = 0|\n",
    "|`weekday`|Le jour en semaine (dénombré de 0 à 7)|\n",
    "|`workingday`|Est-ce le jour de travail ? Oui = 1, Non = 0|\n",
    "|`weathersit`|Le climat (variable catégorielle)|\n",
    "|`temp`|La température, à l'échelle 0-1|\n",
    "|`atemp`|La température ajustée|\n",
    "|`hum`|L'humidité, à l'échelle 0-1|\n",
    "|`windspeed`|La vitesse du vent, à l'échelle 0-1|\n",
    "|`casual`|Le nombre des locations occasionnelles|\n",
    "|`registered`|Le nombre des locations abonnées|\n",
    "|`cnt`|Le total des nombres de locations (occasionnelles + abonnées)|\n",
    "\n",
    "Dans ce projet, nous essayerons de faire les prévisions sur le nombre total des locations de vélos pour une heure déterminée. Nous ferons les prévisions pour la colonne `cnt` en utilisant toutes les colonnes qui restent, à l'exception de `casual` et `registered`. Pour arriver à le faire, nous allons créer plusieurs modèles de Machine Learning et évaluer leur performance."
   ]
  },
  {
   "cell_type": "code",
   "execution_count": 2,
   "metadata": {},
   "outputs": [
    {
     "data": {
      "image/png": "[encoded data removed]",
      "text/plain": [
       "<Figure size 432x288 with 1 Axes>"
      ]
     },
     "metadata": {
      "needs_background": "light"
     },
     "output_type": "display_data"
    }
   ],
   "source": [
    "import matplotlib.pyplot as plt\n",
    "%matplotlib inline\n",
    "\n",
    "plt.hist(bikes['cnt'])\n",
    "plt.show()"
   ]
  },
  {
   "cell_type": "code",
   "execution_count": 3,
   "metadata": {},
   "outputs": [
    {
     "data": {
      "text/plain": [
       "hum          -0.322911\n",
       "weathersit   -0.142426\n",
       "holiday      -0.030927\n",
       "weekday       0.026900\n",
       "workingday    0.030284\n",
       "windspeed     0.093234\n",
       "mnth          0.120638\n",
       "season        0.178056\n",
       "yr            0.250495\n",
       "instant       0.278379\n",
       "hr            0.394071\n",
       "atemp         0.400929\n",
       "temp          0.404772\n",
       "casual        0.694564\n",
       "registered    0.972151\n",
       "cnt           1.000000\n",
       "Name: cnt, dtype: float64"
      ]
     },
     "execution_count": 3,
     "metadata": {},
     "output_type": "execute_result"
    }
   ],
   "source": [
    "# trouver la corrélation entre 'cnt' et chaque colonne\n",
    "correlations = bikes.corr()['cnt'].sort_values()\n",
    "correlations"
   ]
  },
  {
   "cell_type": "markdown",
   "metadata": {},
   "source": [
    "La température (`temp` et `atemp`) et le moment de la journée (`hr`) sont en plus forte corrélation avec la location des vélos. En effet, on peut imaginer que les locations sont nombreuses en journée et quand la température est agréable; et sont moins nombreuses au soir et quand la température est désagréable...\n",
    "\n",
    "Par la suite, le numéro d'ID, la saison, les mois, ... sont en corrélation modérée avec la location des vélos.\n",
    "\n",
    "Enfin, que ce soit le jour du travail ou les vacances, qu'il fait humide ou non, ça n'impacte pas grand chose à la location des vélos."
   ]
  },
  {
   "cell_type": "markdown",
   "metadata": {},
   "source": [
    "## Traitement de caractéristiques ##\n",
    "\n",
    "Il est souvent utile de traiter les caractéristiques avant d'élaborer les algorithmes de Machine Learning (ML). Les caractéristiques peuvent améliorer la précision des modèles grâce à l'introduction de nouveaux éléments.\n",
    "\n",
    "Par exemple, la colonne `hr` comprend les heures de location, dénombrées de 1 à 24(h). Un modèle va traiter chaque heure d'une manière différente, sans comprendre que certaines heures soient relativement liées. Nous pouvons imposer un nouvel ordre en créant une novelle colonne qui contient des labels pour `morning`, `afternoon`, `evening` et `night`. Cela va grouper les heures ensemble et aide à faire les meilleures décisions."
   ]
  },
  {
   "cell_type": "code",
   "execution_count": 4,
   "metadata": {
    "scrolled": true
   },
   "outputs": [
    {
     "name": "stdout",
     "output_type": "stream",
     "text": [
      "[4 1 2 3]\n"
     ]
    },
    {
     "data": {
      "text/html": [
       "<div>\n",
       "<style scoped>\n",
       "    .dataframe tbody tr th:only-of-type {\n",
       "        vertical-align: middle;\n",
       "    }\n",
       "\n",
       "    .dataframe tbody tr th {\n",
       "        vertical-align: top;\n",
       "    }\n",
       "\n",
       "    .dataframe thead th {\n",
       "        text-align: right;\n",
       "    }\n",
       "</style>\n",
       "<table border=\"1\" class=\"dataframe\">\n",
       "  <thead>\n",
       "    <tr style=\"text-align: right;\">\n",
       "      <th></th>\n",
       "      <th>instant</th>\n",
       "      <th>dteday</th>\n",
       "      <th>season</th>\n",
       "      <th>yr</th>\n",
       "      <th>mnth</th>\n",
       "      <th>hr</th>\n",
       "      <th>holiday</th>\n",
       "      <th>weekday</th>\n",
       "      <th>workingday</th>\n",
       "      <th>weathersit</th>\n",
       "      <th>temp</th>\n",
       "      <th>atemp</th>\n",
       "      <th>hum</th>\n",
       "      <th>windspeed</th>\n",
       "      <th>casual</th>\n",
       "      <th>registered</th>\n",
       "      <th>cnt</th>\n",
       "      <th>time_label</th>\n",
       "    </tr>\n",
       "  </thead>\n",
       "  <tbody>\n",
       "    <tr>\n",
       "      <th>0</th>\n",
       "      <td>1</td>\n",
       "      <td>2011-01-01</td>\n",
       "      <td>1</td>\n",
       "      <td>0</td>\n",
       "      <td>1</td>\n",
       "      <td>0</td>\n",
       "      <td>0</td>\n",
       "      <td>6</td>\n",
       "      <td>0</td>\n",
       "      <td>1</td>\n",
       "      <td>0.24</td>\n",
       "      <td>0.2879</td>\n",
       "      <td>0.81</td>\n",
       "      <td>0.0</td>\n",
       "      <td>3</td>\n",
       "      <td>13</td>\n",
       "      <td>16</td>\n",
       "      <td>4</td>\n",
       "    </tr>\n",
       "    <tr>\n",
       "      <th>1</th>\n",
       "      <td>2</td>\n",
       "      <td>2011-01-01</td>\n",
       "      <td>1</td>\n",
       "      <td>0</td>\n",
       "      <td>1</td>\n",
       "      <td>1</td>\n",
       "      <td>0</td>\n",
       "      <td>6</td>\n",
       "      <td>0</td>\n",
       "      <td>1</td>\n",
       "      <td>0.22</td>\n",
       "      <td>0.2727</td>\n",
       "      <td>0.80</td>\n",
       "      <td>0.0</td>\n",
       "      <td>8</td>\n",
       "      <td>32</td>\n",
       "      <td>40</td>\n",
       "      <td>4</td>\n",
       "    </tr>\n",
       "    <tr>\n",
       "      <th>2</th>\n",
       "      <td>3</td>\n",
       "      <td>2011-01-01</td>\n",
       "      <td>1</td>\n",
       "      <td>0</td>\n",
       "      <td>1</td>\n",
       "      <td>2</td>\n",
       "      <td>0</td>\n",
       "      <td>6</td>\n",
       "      <td>0</td>\n",
       "      <td>1</td>\n",
       "      <td>0.22</td>\n",
       "      <td>0.2727</td>\n",
       "      <td>0.80</td>\n",
       "      <td>0.0</td>\n",
       "      <td>5</td>\n",
       "      <td>27</td>\n",
       "      <td>32</td>\n",
       "      <td>4</td>\n",
       "    </tr>\n",
       "    <tr>\n",
       "      <th>3</th>\n",
       "      <td>4</td>\n",
       "      <td>2011-01-01</td>\n",
       "      <td>1</td>\n",
       "      <td>0</td>\n",
       "      <td>1</td>\n",
       "      <td>3</td>\n",
       "      <td>0</td>\n",
       "      <td>6</td>\n",
       "      <td>0</td>\n",
       "      <td>1</td>\n",
       "      <td>0.24</td>\n",
       "      <td>0.2879</td>\n",
       "      <td>0.75</td>\n",
       "      <td>0.0</td>\n",
       "      <td>3</td>\n",
       "      <td>10</td>\n",
       "      <td>13</td>\n",
       "      <td>4</td>\n",
       "    </tr>\n",
       "    <tr>\n",
       "      <th>4</th>\n",
       "      <td>5</td>\n",
       "      <td>2011-01-01</td>\n",
       "      <td>1</td>\n",
       "      <td>0</td>\n",
       "      <td>1</td>\n",
       "      <td>4</td>\n",
       "      <td>0</td>\n",
       "      <td>6</td>\n",
       "      <td>0</td>\n",
       "      <td>1</td>\n",
       "      <td>0.24</td>\n",
       "      <td>0.2879</td>\n",
       "      <td>0.75</td>\n",
       "      <td>0.0</td>\n",
       "      <td>0</td>\n",
       "      <td>1</td>\n",
       "      <td>1</td>\n",
       "      <td>4</td>\n",
       "    </tr>\n",
       "  </tbody>\n",
       "</table>\n",
       "</div>"
      ],
      "text/plain": [
       "   instant      dteday  season  yr  mnth  hr  holiday  weekday  workingday  \\\n",
       "0        1  2011-01-01       1   0     1   0        0        6           0   \n",
       "1        2  2011-01-01       1   0     1   1        0        6           0   \n",
       "2        3  2011-01-01       1   0     1   2        0        6           0   \n",
       "3        4  2011-01-01       1   0     1   3        0        6           0   \n",
       "4        5  2011-01-01       1   0     1   4        0        6           0   \n",
       "\n",
       "   weathersit  temp   atemp   hum  windspeed  casual  registered  cnt  \\\n",
       "0           1  0.24  0.2879  0.81        0.0       3          13   16   \n",
       "1           1  0.22  0.2727  0.80        0.0       8          32   40   \n",
       "2           1  0.22  0.2727  0.80        0.0       5          27   32   \n",
       "3           1  0.24  0.2879  0.75        0.0       3          10   13   \n",
       "4           1  0.24  0.2879  0.75        0.0       0           1    1   \n",
       "\n",
       "   time_label  \n",
       "0           4  \n",
       "1           4  \n",
       "2           4  \n",
       "3           4  \n",
       "4           4  "
      ]
     },
     "execution_count": 4,
     "metadata": {},
     "output_type": "execute_result"
    }
   ],
   "source": [
    "def assign_label(hour):\n",
    "    if hour >=0 and hour < 6:\n",
    "        return 4\n",
    "    elif hour >= 6 and hour < 12:\n",
    "        return 1\n",
    "    elif hour >= 12 and hour < 18:\n",
    "        return 2\n",
    "    else:\n",
    "        return 3\n",
    "    \n",
    "bikes['time_label'] = bikes['hr'].apply(lambda x : assign_label(x))\n",
    "print(bikes['time_label'].unique())\n",
    "bikes.head()"
   ]
  },
  {
   "cell_type": "markdown",
   "metadata": {},
   "source": [
    "## Fractionnement de l'ensemble des données  ##\n",
    "\n",
    "Afin d'éviter le super-apprentissage, nous allons fractionner les données en 2 sous-ensembles : l'un pour le training (80% des données) et l'autre pour le test (20% des données).\n",
    "\n",
    "On sélectionnera l'Erreur Quadratique Moyenne (EQM) comme mesure de précision. l'EQM fonctionne bien sur les données en continue, ce qui va bien dans notre cas."
   ]
  },
  {
   "cell_type": "code",
   "execution_count": 5,
   "metadata": {},
   "outputs": [],
   "source": [
    "train = bikes.sample(frac=.8)\n",
    "test = bikes.loc[~bikes.index.isin(train.index)]"
   ]
  },
  {
   "cell_type": "markdown",
   "metadata": {},
   "source": [
    "## Régression linéaire##\n",
    "\n",
    "Vu qu'il existe plusieurs colonnes qui sont en fortement corrélées avec `cnt`, le modèle de régression linéaire serait un bon candidat pour effectuer les prévisions.\n",
    "\n",
    "En applicant les colonnes au modèle, on devra ignorer `casual` et `registered` puisque ces dernières s'additionnent à `cnt`. Si l'objectif est de prévenir le nombre total des locations, la connaissance préalable sur `casual` et `registered` donnera aucun sens."
   ]
  },
  {
   "cell_type": "code",
   "execution_count": 6,
   "metadata": {},
   "outputs": [
    {
     "data": {
      "text/plain": [
       "16428.586304353896"
      ]
     },
     "execution_count": 6,
     "metadata": {},
     "output_type": "execute_result"
    }
   ],
   "source": [
    "import numpy as np\n",
    "from sklearn.linear_model import LinearRegression\n",
    "from sklearn.metrics import mean_squared_error\n",
    "\n",
    "features = bikes.columns.drop(['cnt', 'casual', 'registered', 'dteday'])\n",
    "target = 'cnt'\n",
    "\n",
    "lr = LinearRegression()\n",
    "# fitting le modèle \n",
    "lr.fit(train[features], train[target])\n",
    "# prévisions\n",
    "predictions = lr.predict(test[features])\n",
    "# calculer EQM\n",
    "mse = mean_squared_error(test[target], predictions)\n",
    "mse"
   ]
  },
  {
   "cell_type": "markdown",
   "metadata": {},
   "source": [
    "Il paraît que l'erreur est assez élevée, du fait qu'il existe certaines locations dites \"extrêmement élevées\" ou \"aberrantes\", alors que l'ensemble des locations sont comptées faibles. La présence des valeurs aberrantes a pénalisé l'EQM, ce qui entraîne à une grande erreur."
   ]
  },
  {
   "cell_type": "markdown",
   "metadata": {},
   "source": [
    "## Arbres de décisions ##\n",
    "\n",
    "Nous allons appliquer les arbres de décisions dans le but de comparer l'efficacité entre ceux-ci avec la régression linéaire."
   ]
  },
  {
   "cell_type": "code",
   "execution_count": 7,
   "metadata": {},
   "outputs": [
    {
     "data": {
      "text/plain": [
       "3337.0981012658226"
      ]
     },
     "execution_count": 7,
     "metadata": {},
     "output_type": "execute_result"
    }
   ],
   "source": [
    "from sklearn.tree import DecisionTreeRegressor\n",
    "\n",
    "dtr = DecisionTreeRegressor()\n",
    "dtr.fit(train[features], train[target])\n",
    "\n",
    "predictions = dtr.predict(test[features])\n",
    "mse = mean_squared_error(test[target], predictions)\n",
    "mse"
   ]
  },
  {
   "cell_type": "code",
   "execution_count": 8,
   "metadata": {},
   "outputs": [
    {
     "data": {
      "text/plain": [
       "2925.533299210459"
      ]
     },
     "execution_count": 8,
     "metadata": {},
     "output_type": "execute_result"
    }
   ],
   "source": [
    "# modifier le paramètre 'min_samples_leaf' et voir si la modification est efficace\n",
    "dtr = DecisionTreeRegressor(min_samples_leaf = 3)\n",
    "dtr.fit(train[features], train[target])\n",
    "\n",
    "predictions = dtr.predict(test[features])\n",
    "mse = mean_squared_error(test[target], predictions)\n",
    "mse"
   ]
  },
  {
   "cell_type": "code",
   "execution_count": 9,
   "metadata": {},
   "outputs": [
    {
     "data": {
      "text/plain": [
       "3563.689403655979"
      ]
     },
     "execution_count": 9,
     "metadata": {},
     "output_type": "execute_result"
    }
   ],
   "source": [
    "# modifier le paramètre 'max_depth' et voir si la modification est efficace\n",
    "dtr = DecisionTreeRegressor(max_depth = 11)\n",
    "dtr.fit(train[features], train[target])\n",
    "\n",
    "predictions = dtr.predict(test[features])\n",
    "mse = mean_squared_error(test[target], predictions)\n",
    "mse"
   ]
  },
  {
   "cell_type": "code",
   "execution_count": 10,
   "metadata": {},
   "outputs": [
    {
     "data": {
      "text/plain": [
       "3452.6626272663552"
      ]
     },
     "execution_count": 10,
     "metadata": {},
     "output_type": "execute_result"
    }
   ],
   "source": [
    "# combiner les paramètres 'min_samples_leaf' et 'max_depth' et voir si la modification est efficace\n",
    "dtr = DecisionTreeRegressor(min_samples_leaf=3, max_depth = 11)\n",
    "dtr.fit(train[features], train[target])\n",
    "\n",
    "predictions = dtr.predict(test[features])\n",
    "mse = mean_squared_error(test[target], predictions)\n",
    "mse"
   ]
  },
  {
   "cell_type": "markdown",
   "metadata": {},
   "source": [
    "En prenant en compte les facteurs non-linéairs, le modèle d'arbre de décisions rapporte une EQM beaucoup plus faible, surtout quand nous ajoutons les conditions sur les paramètres pour mettre l'arbre plus à l'aise avec l'apprentissage."
   ]
  },
  {
   "cell_type": "markdown",
   "metadata": {},
   "source": [
    "## Forêts d'abres décisionnels##"
   ]
  },
  {
   "cell_type": "markdown",
   "metadata": {},
   "source": [
    "Enfin, nous allons appliquer les forêts d'arbres décisionnels sur l'ensemble des données. La valeur de l'EQM devrait être encore plus faible suite à l'effet des forêts. Autrement dit, la précision sur les prévisions s'améliorerait avec l'application de ce modèle."
   ]
  },
  {
   "cell_type": "code",
   "execution_count": 11,
   "metadata": {},
   "outputs": [
    {
     "data": {
      "text/plain": [
       "2189.536470080552"
      ]
     },
     "execution_count": 11,
     "metadata": {},
     "output_type": "execute_result"
    }
   ],
   "source": [
    "from sklearn.ensemble import RandomForestRegressor\n",
    "\n",
    "# prendre 10 arbres\n",
    "rf = RandomForestRegressor(10)\n",
    "rf.fit(train[features], train[target])\n",
    "\n",
    "predictions = rf.predict(test[features])\n",
    "mse = mean_squared_error(test[target], predictions)\n",
    "mse"
   ]
  },
  {
   "cell_type": "code",
   "execution_count": 12,
   "metadata": {},
   "outputs": [
    {
     "data": {
      "text/plain": [
       "1916.3675934407365"
      ]
     },
     "execution_count": 12,
     "metadata": {},
     "output_type": "execute_result"
    }
   ],
   "source": [
    "# prendre 100 arbres\n",
    "rf = RandomForestRegressor(100)\n",
    "rf.fit(train[features], train[target])\n",
    "\n",
    "predictions = rf.predict(test[features])\n",
    "mse = mean_squared_error(test[target], predictions)\n",
    "mse"
   ]
  },
  {
   "cell_type": "code",
   "execution_count": 13,
   "metadata": {},
   "outputs": [
    {
     "data": {
      "text/plain": [
       "2110.2238150805133"
      ]
     },
     "execution_count": 13,
     "metadata": {},
     "output_type": "execute_result"
    }
   ],
   "source": [
    "#prendre 100 arbres avec modification des paramètres\n",
    "rf = RandomForestRegressor(10, min_samples_leaf=3)\n",
    "rf.fit(train[features], train[target])\n",
    "\n",
    "predictions = rf.predict(test[features])\n",
    "mse = mean_squared_error(test[target], predictions)\n",
    "mse"
   ]
  },
  {
   "cell_type": "markdown",
   "metadata": {},
   "source": [
    "Nous observons que les précisions sur le total des locations ont beaucoup amélioré avec l'application des forêts d'arbres décisionnels. Pour l'instant, nous obtenons la plus faible EQM en établissant 100 arbres tout en mettant les paramètres en défaut. "
   ]
  },
  {
   "cell_type": "markdown",
   "metadata": {},
   "source": [
    "# Conclusion #\n",
    "\n",
    "A travers de ce projet, nous avons appliquer respectivement les modèles de Régression linéaire, d'Arbres de décision et de Forêts d'arbres décisionnels dans le but de minimiser la valeur de l'Erreur Quadratique Moyenne. \n",
    "\n",
    "Nous trouvons que les Forêts d'abres décisionnels ont donnée la plus faible EQM, pour une valeur approximative de 1916, avec 100 arbres de décisions rassemblés et sans paramètres rajoutés. Autrement dit, les prévisions sur le total des locations des vélos sont optimisées à l'aide des Forêts d'abres décisionnels. "
   ]
  }
 ],
 "metadata": {
  "kernelspec": {
   "display_name": "Python 3",
   "language": "python",
   "name": "python3"
  },
  "language_info": {
   "codemirror_mode": {
    "name": "ipython",
    "version": 3
   },
   "file_extension": ".py",
   "mimetype": "text/x-python",
   "name": "python",
   "nbconvert_exporter": "python",
   "pygments_lexer": "ipython3",
   "version": "3.7.1"
  }
 },
 "nbformat": 4,
 "nbformat_minor": 2
}
