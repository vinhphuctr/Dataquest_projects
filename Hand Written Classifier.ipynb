{
 "cells": [
  {
   "cell_type": "markdown",
   "metadata": {},
   "source": [
    "# Building A Handwritten Digits Classifier #"
   ]
  },
  {
   "cell_type": "markdown",
   "metadata": {},
   "source": [
    "## Working with Image Data##"
   ]
  },
  {
   "cell_type": "code",
   "execution_count": 1,
   "metadata": {},
   "outputs": [
    {
     "data": {
      "text/plain": [
       "dict_keys(['data', 'target', 'target_names', 'images', 'DESCR'])"
      ]
     },
     "execution_count": 1,
     "metadata": {},
     "output_type": "execute_result"
    }
   ],
   "source": [
    "import pandas as pd\n",
    "import numpy as np\n",
    "import matplotlib.pyplot as plt\n",
    "%matplotlib inline\n",
    "from sklearn.datasets import load_digits\n",
    "\n",
    "\n",
    "digit = load_digits()\n",
    "digit.keys()"
   ]
  },
  {
   "cell_type": "code",
   "execution_count": 2,
   "metadata": {},
   "outputs": [],
   "source": [
    "# transform 'target' array into pandas Series\n",
    "labels = pd.Series(digit['target'])"
   ]
  },
  {
   "cell_type": "code",
   "execution_count": 3,
   "metadata": {},
   "outputs": [
    {
     "name": "stdout",
     "output_type": "stream",
     "text": [
      "(1797, 64)\n"
     ]
    },
    {
     "data": {
      "text/html": [
       "<div>\n",
       "<style scoped>\n",
       "    .dataframe tbody tr th:only-of-type {\n",
       "        vertical-align: middle;\n",
       "    }\n",
       "\n",
       "    .dataframe tbody tr th {\n",
       "        vertical-align: top;\n",
       "    }\n",
       "\n",
       "    .dataframe thead th {\n",
       "        text-align: right;\n",
       "    }\n",
       "</style>\n",
       "<table border=\"1\" class=\"dataframe\">\n",
       "  <thead>\n",
       "    <tr style=\"text-align: right;\">\n",
       "      <th></th>\n",
       "      <th>0</th>\n",
       "      <th>1</th>\n",
       "      <th>2</th>\n",
       "      <th>3</th>\n",
       "      <th>4</th>\n",
       "      <th>5</th>\n",
       "      <th>6</th>\n",
       "      <th>7</th>\n",
       "      <th>8</th>\n",
       "      <th>9</th>\n",
       "      <th>...</th>\n",
       "      <th>54</th>\n",
       "      <th>55</th>\n",
       "      <th>56</th>\n",
       "      <th>57</th>\n",
       "      <th>58</th>\n",
       "      <th>59</th>\n",
       "      <th>60</th>\n",
       "      <th>61</th>\n",
       "      <th>62</th>\n",
       "      <th>63</th>\n",
       "    </tr>\n",
       "  </thead>\n",
       "  <tbody>\n",
       "    <tr>\n",
       "      <th>0</th>\n",
       "      <td>0.0</td>\n",
       "      <td>0.0</td>\n",
       "      <td>5.0</td>\n",
       "      <td>13.0</td>\n",
       "      <td>9.0</td>\n",
       "      <td>1.0</td>\n",
       "      <td>0.0</td>\n",
       "      <td>0.0</td>\n",
       "      <td>0.0</td>\n",
       "      <td>0.0</td>\n",
       "      <td>...</td>\n",
       "      <td>0.0</td>\n",
       "      <td>0.0</td>\n",
       "      <td>0.0</td>\n",
       "      <td>0.0</td>\n",
       "      <td>6.0</td>\n",
       "      <td>13.0</td>\n",
       "      <td>10.0</td>\n",
       "      <td>0.0</td>\n",
       "      <td>0.0</td>\n",
       "      <td>0.0</td>\n",
       "    </tr>\n",
       "    <tr>\n",
       "      <th>1</th>\n",
       "      <td>0.0</td>\n",
       "      <td>0.0</td>\n",
       "      <td>0.0</td>\n",
       "      <td>12.0</td>\n",
       "      <td>13.0</td>\n",
       "      <td>5.0</td>\n",
       "      <td>0.0</td>\n",
       "      <td>0.0</td>\n",
       "      <td>0.0</td>\n",
       "      <td>0.0</td>\n",
       "      <td>...</td>\n",
       "      <td>0.0</td>\n",
       "      <td>0.0</td>\n",
       "      <td>0.0</td>\n",
       "      <td>0.0</td>\n",
       "      <td>0.0</td>\n",
       "      <td>11.0</td>\n",
       "      <td>16.0</td>\n",
       "      <td>10.0</td>\n",
       "      <td>0.0</td>\n",
       "      <td>0.0</td>\n",
       "    </tr>\n",
       "    <tr>\n",
       "      <th>2</th>\n",
       "      <td>0.0</td>\n",
       "      <td>0.0</td>\n",
       "      <td>0.0</td>\n",
       "      <td>4.0</td>\n",
       "      <td>15.0</td>\n",
       "      <td>12.0</td>\n",
       "      <td>0.0</td>\n",
       "      <td>0.0</td>\n",
       "      <td>0.0</td>\n",
       "      <td>0.0</td>\n",
       "      <td>...</td>\n",
       "      <td>5.0</td>\n",
       "      <td>0.0</td>\n",
       "      <td>0.0</td>\n",
       "      <td>0.0</td>\n",
       "      <td>0.0</td>\n",
       "      <td>3.0</td>\n",
       "      <td>11.0</td>\n",
       "      <td>16.0</td>\n",
       "      <td>9.0</td>\n",
       "      <td>0.0</td>\n",
       "    </tr>\n",
       "    <tr>\n",
       "      <th>3</th>\n",
       "      <td>0.0</td>\n",
       "      <td>0.0</td>\n",
       "      <td>7.0</td>\n",
       "      <td>15.0</td>\n",
       "      <td>13.0</td>\n",
       "      <td>1.0</td>\n",
       "      <td>0.0</td>\n",
       "      <td>0.0</td>\n",
       "      <td>0.0</td>\n",
       "      <td>8.0</td>\n",
       "      <td>...</td>\n",
       "      <td>9.0</td>\n",
       "      <td>0.0</td>\n",
       "      <td>0.0</td>\n",
       "      <td>0.0</td>\n",
       "      <td>7.0</td>\n",
       "      <td>13.0</td>\n",
       "      <td>13.0</td>\n",
       "      <td>9.0</td>\n",
       "      <td>0.0</td>\n",
       "      <td>0.0</td>\n",
       "    </tr>\n",
       "    <tr>\n",
       "      <th>4</th>\n",
       "      <td>0.0</td>\n",
       "      <td>0.0</td>\n",
       "      <td>0.0</td>\n",
       "      <td>1.0</td>\n",
       "      <td>11.0</td>\n",
       "      <td>0.0</td>\n",
       "      <td>0.0</td>\n",
       "      <td>0.0</td>\n",
       "      <td>0.0</td>\n",
       "      <td>0.0</td>\n",
       "      <td>...</td>\n",
       "      <td>0.0</td>\n",
       "      <td>0.0</td>\n",
       "      <td>0.0</td>\n",
       "      <td>0.0</td>\n",
       "      <td>0.0</td>\n",
       "      <td>2.0</td>\n",
       "      <td>16.0</td>\n",
       "      <td>4.0</td>\n",
       "      <td>0.0</td>\n",
       "      <td>0.0</td>\n",
       "    </tr>\n",
       "  </tbody>\n",
       "</table>\n",
       "<p>5 rows × 64 columns</p>\n",
       "</div>"
      ],
      "text/plain": [
       "    0    1    2     3     4     5    6    7    8    9  ...    54   55   56  \\\n",
       "0  0.0  0.0  5.0  13.0   9.0   1.0  0.0  0.0  0.0  0.0 ...   0.0  0.0  0.0   \n",
       "1  0.0  0.0  0.0  12.0  13.0   5.0  0.0  0.0  0.0  0.0 ...   0.0  0.0  0.0   \n",
       "2  0.0  0.0  0.0   4.0  15.0  12.0  0.0  0.0  0.0  0.0 ...   5.0  0.0  0.0   \n",
       "3  0.0  0.0  7.0  15.0  13.0   1.0  0.0  0.0  0.0  8.0 ...   9.0  0.0  0.0   \n",
       "4  0.0  0.0  0.0   1.0  11.0   0.0  0.0  0.0  0.0  0.0 ...   0.0  0.0  0.0   \n",
       "\n",
       "    57   58    59    60    61   62   63  \n",
       "0  0.0  6.0  13.0  10.0   0.0  0.0  0.0  \n",
       "1  0.0  0.0  11.0  16.0  10.0  0.0  0.0  \n",
       "2  0.0  0.0   3.0  11.0  16.0  9.0  0.0  \n",
       "3  0.0  7.0  13.0  13.0   9.0  0.0  0.0  \n",
       "4  0.0  0.0   2.0  16.0   4.0  0.0  0.0  \n",
       "\n",
       "[5 rows x 64 columns]"
      ]
     },
     "execution_count": 3,
     "metadata": {},
     "output_type": "execute_result"
    }
   ],
   "source": [
    "# transform 'data' array into pandas Dataframe\n",
    "features = pd.DataFrame(digit['data'])\n",
    "print(features.shape)\n",
    "features.head()"
   ]
  },
  {
   "cell_type": "code",
   "execution_count": 4,
   "metadata": {},
   "outputs": [
    {
     "data": {
      "image/png": "[encoded data removed]",
      "text/plain": [
       "<Figure size 432x288 with 1 Axes>"
      ]
     },
     "metadata": {
      "needs_background": "light"
     },
     "output_type": "display_data"
    }
   ],
   "source": [
    "# visualize the first image (first row) in the dataset (in Black and White)\n",
    "first_image = features.iloc[0]\n",
    "np_image = first_image.values\n",
    "np_image = np_image.reshape(8,8)\n",
    "\n",
    "plt.imshow(np_image, cmap='gray_r')\n",
    "plt.show()"
   ]
  },
  {
   "cell_type": "code",
   "execution_count": 5,
   "metadata": {},
   "outputs": [
    {
     "data": {
      "image/png": "[encoded data removed]",
      "text/plain": [
       "<Figure size 432x288 with 8 Axes>"
      ]
     },
     "metadata": {
      "needs_background": "light"
     },
     "output_type": "display_data"
    }
   ],
   "source": [
    "# visualize some of the images in the dataset\n",
    "fig, ax = plt.subplots(2, 4)\n",
    "\n",
    "# first row, display the images corresponding to rows 0, 100, 200 and 300\n",
    "ax[0,0].imshow(features.iloc[0].values.reshape(8,8), cmap='gray_r')\n",
    "ax[0,1].imshow(features.iloc[100].values.reshape(8,8), cmap='gray_r')\n",
    "ax[0,2].imshow(features.iloc[200].values.reshape(8,8), cmap='gray_r')\n",
    "ax[0,3].imshow(features.iloc[300].values.reshape(8,8), cmap='gray_r')\n",
    "\n",
    "# second row, display the images corresponding to rows 1000, 1100, 1200 and 1300\n",
    "ax[1,0].imshow(features.iloc[1000].values.reshape(8,8), cmap='gray_r')\n",
    "ax[1,1].imshow(features.iloc[1100].values.reshape(8,8), cmap='gray_r')\n",
    "ax[1,2].imshow(features.iloc[1200].values.reshape(8,8), cmap='gray_r')\n",
    "ax[1,3].imshow(features.iloc[1300].values.reshape(8,8), cmap='gray_r')\n",
    "\n",
    "plt.show()"
   ]
  },
  {
   "cell_type": "markdown",
   "metadata": {},
   "source": [
    "## Training with K-Nearest Neighbors (KNN) Model##\n",
    "\n",
    "While linear and logistic regression models make assumptions about the linearity between the features and the output labels, the KNN algorithm make no such assumption. This allows them to capture nonlinearity in the data.\n",
    "\n",
    "Let's experiment with different values for **k** and plot the resulting classification accuracies."
   ]
  },
  {
   "cell_type": "code",
   "execution_count": 6,
   "metadata": {},
   "outputs": [
    {
     "data": {
      "image/png": "[encoded data removed]",
      "text/plain": [
       "<Figure size 432x288 with 1 Axes>"
      ]
     },
     "metadata": {
      "needs_background": "light"
     },
     "output_type": "display_data"
    }
   ],
   "source": [
    "# splitting up the data into half train and half test sets\n",
    "half_length = int(len(features)/2)\n",
    "train_features = features[:half_length]\n",
    "train_labels = labels[:half_length]\n",
    "test_features = features[half_length:]\n",
    "test_labels = labels[half_length:]\n",
    "\n",
    "from sklearn.neighbors import KNeighborsClassifier\n",
    "from sklearn.model_selection import KFold\n",
    "from sklearn.metrics import accuracy_score\n",
    "\n",
    "#setting a pipeline for training and testing with different k neighbors\n",
    "def train(k, train_features, train_labels):\n",
    "    knc = KNeighborsClassifier(n_neighbors=k)\n",
    "    knc.fit(train_features, train_labels)\n",
    "    return knc\n",
    "\n",
    "def test(train_model, test_features, test_labels):\n",
    "    predictions = train_model.predict(test_features)\n",
    "    accuracy = accuracy_score(test_labels, predictions)\n",
    "    return accuracy\n",
    "\n",
    "def cross_validate(k):\n",
    "    fold_accuracies = []\n",
    "    kf = KFold(n_splits=4, random_state=2)\n",
    "    for train_index, test_index in kf.split(features):\n",
    "        train_features, test_features = features.loc[train_index], features.loc[test_index]\n",
    "        train_labels, test_labels = labels.loc[train_index], labels.loc[test_index]\n",
    "        model = train(k, train_features, train_labels)\n",
    "        accuracy = test(model, test_features, test_labels)\n",
    "        fold_accuracies.append(accuracy)\n",
    "    return np.mean(fold_accuracies)\n",
    "\n",
    "# experiment with different K values\n",
    "k_values = list(range(1,15))\n",
    "k_accuracies = list()\n",
    "\n",
    "for k in k_values:\n",
    "    k_accuracy = cross_validate(k)\n",
    "    k_accuracies.append(k_accuracy)\n",
    "    \n",
    "plt.plot(k_values, k_accuracies)\n",
    "plt.xlabel('k neighbors')\n",
    "plt.ylabel('overall accuracy scores')\n",
    "plt.title('Overall accuracy scores by \\nnumber of k neighbors', fontsize=15)\n",
    "plt.show()"
   ]
  },
  {
   "cell_type": "markdown",
   "metadata": {},
   "source": [
    "From the graph, we can see that the higher the number of neighbors, the lower the accuracy score. That means using KNN is getting a few downsides:\n",
    "- high memory usage (for each new unseen observation, many comparisions need to be made to seen observations)\n",
    "- no model representation to debug and explore.\n",
    "\n",
    "Let's now try a neural network with a single hidden layer instead."
   ]
  },
  {
   "cell_type": "markdown",
   "metadata": {},
   "source": [
    "## Neural network with One Hidden Layer##"
   ]
  },
  {
   "cell_type": "code",
   "execution_count": 7,
   "metadata": {},
   "outputs": [
    {
     "name": "stdout",
     "output_type": "stream",
     "text": [
      "{8: 0.8931403118040089, 16: 0.9232009403612967, 32: 0.9332108389012621, 64: 0.9432281613462015, 128: 0.9426825043306112, 256: 0.9493578322197476}\n"
     ]
    },
    {
     "data": {
      "image/png": "[encoded data removed]",
      "text/plain": [
       "<Figure size 432x288 with 1 Axes>"
      ]
     },
     "metadata": {
      "needs_background": "light"
     },
     "output_type": "display_data"
    }
   ],
   "source": [
    "from sklearn.neural_network import MLPClassifier\n",
    "\n",
    "#setting a pipeline for training and testing with a single hidden layer but different neuron contents\n",
    "def train(n, train_features, train_labels):\n",
    "    nn = MLPClassifier(hidden_layer_sizes=(n,), max_iter=1000)\n",
    "    nn.fit(train_features, train_labels)\n",
    "    return nn\n",
    "\n",
    "def test(train_model, test_features, test_labels):\n",
    "    test_predictions = train_model.predict(test_features)\n",
    "    test_accuracy = accuracy_score(test_labels, test_predictions)\n",
    "    return test_accuracy\n",
    "\n",
    "def cross_validate(n):\n",
    "    fold_accuracies = []\n",
    "    kf = KFold(n_splits=4, random_state=2)\n",
    "    for train_index, test_index in kf.split(features):\n",
    "        train_features, test_features = features.loc[train_index], features.loc[test_index]\n",
    "        train_labels, test_labels = labels.loc[train_index], labels.loc[test_index]\n",
    "        model = train(n, train_features, train_labels)\n",
    "        accuracy = test(model, test_features, test_labels)\n",
    "        fold_accuracies.append(accuracy)\n",
    "    return np.mean(fold_accuracies)\n",
    "\n",
    "# experiment with a single hidden layer but different neuron contents\n",
    "neurons = [8, 16, 32, 64, 128, 256]\n",
    "nn_accuracies = dict()\n",
    "\n",
    "for n in neurons:\n",
    "    nn_accuracy = cross_validate(n)\n",
    "    nn_accuracies[n] = nn_accuracy\n",
    "\n",
    "print(nn_accuracies)\n",
    "\n",
    "plt.plot(neurons, nn_accuracies.values())\n",
    "plt.xlabel('number of neurons')\n",
    "plt.ylabel('overall accuracy scores')\n",
    "plt.title('Overall accuracy scores by \\nnumber of neurons in a single layer', fontsize=15)\n",
    "\n",
    "plt.show()"
   ]
  },
  {
   "cell_type": "markdown",
   "metadata": {},
   "source": [
    "The mean accuracy score reaches the highest value, 94.9% when there are 128 neurons in the single hidder layer. Then, the score goes down to 94% when we increase the number of neurons to 256. But given that KNN achieved approcimately 97% accuracy as above, there doesn't seem to be more convenient to use a single hidden layer neural network for this problem. \n",
    "\n",
    "Let's see at which point the models are starting to overfit (in other words, at which point the performance in the training set is much higher than one in the test set)."
   ]
  },
  {
   "cell_type": "code",
   "execution_count": 8,
   "metadata": {},
   "outputs": [
    {
     "name": "stderr",
     "output_type": "stream",
     "text": [
      "C:\\Users\\Vinh Phuc\\Anaconda3\\lib\\site-packages\\sklearn\\neural_network\\multilayer_perceptron.py:562: ConvergenceWarning: Stochastic Optimizer: Maximum iterations (1000) reached and the optimization hasn't converged yet.\n",
      "  % self.max_iter, ConvergenceWarning)\n"
     ]
    },
    {
     "data": {
      "image/png": "[encoded data removed]",
      "text/plain": [
       "<Figure size 432x288 with 1 Axes>"
      ]
     },
     "metadata": {
      "needs_background": "light"
     },
     "output_type": "display_data"
    }
   ],
   "source": [
    "def train(n, train_features, train_labels):\n",
    "    nn = MLPClassifier(hidden_layer_sizes=(n,), max_iter=1000)\n",
    "    nn.fit(train_features, train_labels)\n",
    "    return nn\n",
    "\n",
    "def train_acc(train_model, train_features, train_labels):\n",
    "    train_predictions = train_model.predict(train_features)\n",
    "    train_accuracy = accuracy_score(train_labels, train_predictions)\n",
    "    return train_accuracy\n",
    "\n",
    "def test_acc(train_model, test_features, test_labels):\n",
    "    test_predictions = train_model.predict(test_features)\n",
    "    test_accuracy = accuracy_score(test_labels, test_predictions)\n",
    "    return test_accuracy\n",
    "\n",
    "def cross_validate(n):\n",
    "    train_accuracies = []\n",
    "    test_accuracies = []\n",
    "    kf = KFold(n_splits=4, random_state=2)\n",
    "    for train_index, test_index in kf.split(features):\n",
    "        train_features, test_features = features.loc[train_index], features.loc[test_index]\n",
    "        train_labels, test_labels = labels.loc[train_index], labels.loc[test_index]\n",
    "        model = train(n, train_features, train_labels)\n",
    "        \n",
    "        train_accuracy = train_acc(model, train_features, train_labels)\n",
    "        test_accuracy = test_acc(model, test_features, test_labels)\n",
    "        \n",
    "        train_accuracies.append(train_accuracy)\n",
    "        test_accuracies.append(test_accuracy)\n",
    "    return [np.mean(train_accuracies), np.mean(test_accuracies)]\n",
    "\n",
    "neurons = [8, 16, 32, 64, 128, 256]\n",
    "acc = list()\n",
    "for n in neurons:\n",
    "    accuracy = cross_validate(n)\n",
    "    acc.append(accuracy)\n",
    "\n",
    "df = pd.DataFrame(acc)\n",
    "\n",
    "plt.plot(neurons, df[0], color='blue', label='Train accuracies')\n",
    "plt.plot(neurons, df[1], color = 'red', label='Test accuracies')\n",
    "plt.title('Overfitting problem', fontsize=15)\n",
    "plt.xlabel('number of neurons')\n",
    "plt.ylabel('overall accuracy scores')\n",
    "plt.legend()\n",
    "\n",
    "plt.show()"
   ]
  },
  {
   "cell_type": "markdown",
   "metadata": {},
   "source": [
    "We can tell that the overfitting occurs most clearly when numbers of neurons = 8. Then it decreases gradually until neuron numbers = 128 and remains slightly stable after that."
   ]
  },
  {
   "cell_type": "markdown",
   "metadata": {},
   "source": [
    "## Neural Network with Two Hidden Layers##\n",
    "\n",
    "Now let's try using two hidden layers and continue to increase the number of neurons in each layer."
   ]
  },
  {
   "cell_type": "code",
   "execution_count": 9,
   "metadata": {},
   "outputs": [
    {
     "data": {
      "text/plain": [
       "{64: 0.9487998020292007, 128: 0.9549232863152685, 256: 0.9593689680772086}"
      ]
     },
     "execution_count": 9,
     "metadata": {},
     "output_type": "execute_result"
    }
   ],
   "source": [
    "def train(n, train_features, train_labels):\n",
    "    nn = MLPClassifier(hidden_layer_sizes=(n,n), max_iter=1000)\n",
    "    nn.fit(train_features, train_labels)\n",
    "    return nn\n",
    "\n",
    "def test(train_model, test_features, test_labels):\n",
    "    test_predictions = train_model.predict(test_features)\n",
    "    test_accuracy = accuracy_score(test_labels, test_predictions)\n",
    "    return test_accuracy\n",
    "\n",
    "def cross_validate(n):\n",
    "    fold_accuracies = []\n",
    "    kf = KFold(n_splits=4, random_state=2)\n",
    "    for train_index, test_index in kf.split(features):\n",
    "        train_features, test_features = features.loc[train_index], features.loc[test_index]\n",
    "        train_labels, test_labels = labels.loc[train_index], labels.loc[test_index]\n",
    "        model = train(n, train_features, train_labels)\n",
    "        accuracy = test(model, test_features, test_labels)\n",
    "        fold_accuracies.append(accuracy)\n",
    "    return np.mean(fold_accuracies)\n",
    "\n",
    "# feeding 64, 128 and 256 neurons into each layer\n",
    "neurons = [64, 128, 256]\n",
    "accuracies = {}\n",
    "for n in neurons:\n",
    "    acc = cross_validate(n)\n",
    "    accuracies[n] = acc\n",
    "\n",
    "accuracies"
   ]
  },
  {
   "cell_type": "code",
   "execution_count": 10,
   "metadata": {},
   "outputs": [
    {
     "data": {
      "image/png": "[encoded data removed]",
      "text/plain": [
       "<Figure size 432x288 with 1 Axes>"
      ]
     },
     "metadata": {
      "needs_background": "light"
     },
     "output_type": "display_data"
    }
   ],
   "source": [
    "plt.plot(neurons, accuracies.values())\n",
    "plt.xlabel('number of neurons in each hidden layer')\n",
    "plt.ylabel('overall accuracy scores')\n",
    "plt.title('Overall accuracy scores of models with two hidden layers')\n",
    "plt.show()"
   ]
  },
  {
   "cell_type": "markdown",
   "metadata": {},
   "source": [
    "The accuracy seems to be improved after adding two hidden layers instead of one, reaching out to 95.9%.\n",
    "\n",
    "Let's see how the models is overfitting."
   ]
  },
  {
   "cell_type": "code",
   "execution_count": 11,
   "metadata": {},
   "outputs": [
    {
     "data": {
      "image/png": "[encoded data removed]",
      "text/plain": [
       "<Figure size 432x288 with 1 Axes>"
      ]
     },
     "metadata": {
      "needs_background": "light"
     },
     "output_type": "display_data"
    }
   ],
   "source": [
    "def train(n, train_features, train_labels):\n",
    "    nn = MLPClassifier(hidden_layer_sizes=(n,n), max_iter=1000)\n",
    "    nn.fit(train_features, train_labels)\n",
    "    return nn\n",
    "\n",
    "def train_acc(train_model, train_features, train_labels):\n",
    "    train_predictions = train_model.predict(train_features)\n",
    "    train_accuracy = accuracy_score(train_labels, train_predictions)\n",
    "    return train_accuracy\n",
    "\n",
    "def test_acc(train_model, test_features, test_labels):\n",
    "    test_predictions = train_model.predict(test_features)\n",
    "    test_accuracy = accuracy_score(test_labels, test_predictions)\n",
    "    return test_accuracy\n",
    "\n",
    "def cross_validate(n):\n",
    "    train_accuracies = []\n",
    "    test_accuracies = []\n",
    "    kf = KFold(n_splits=4, random_state=2)\n",
    "    for train_index, test_index in kf.split(features):\n",
    "        train_features, test_features = features.loc[train_index], features.loc[test_index]\n",
    "        train_labels, test_labels = labels.loc[train_index], labels.loc[test_index]\n",
    "        model = train(n, train_features, train_labels)\n",
    "        \n",
    "        train_accuracy = train_acc(model, train_features, train_labels)\n",
    "        test_accuracy = test_acc(model, test_features, test_labels)\n",
    "        \n",
    "        train_accuracies.append(train_accuracy)\n",
    "        test_accuracies.append(test_accuracy)\n",
    "    return [np.mean(train_accuracies), np.mean(test_accuracies)]\n",
    "\n",
    "neurons = [64, 128, 256]\n",
    "acc = list()\n",
    "for n in neurons:\n",
    "    accuracy = cross_validate(n)\n",
    "    acc.append(accuracy)\n",
    "\n",
    "df = pd.DataFrame(acc)\n",
    "\n",
    "plt.plot(neurons, df[0], color='blue', label='Train accuracies')\n",
    "plt.plot(neurons, df[1], color = 'red', label='Test accuracies')\n",
    "plt.title('Overfitting problem \\ntwo hidden layers', fontsize=15)\n",
    "plt.xlabel('number of neurons in each hidden layers')\n",
    "plt.ylabel('overall accuracy scores')\n",
    "plt.legend()\n",
    "\n",
    "plt.show()"
   ]
  },
  {
   "cell_type": "markdown",
   "metadata": {},
   "source": [
    "The gap of 0.6% and lower tells us that the overfitting is very low. We could say the two hidden layer neural networks is working quite very well in this case. \n",
    "\n",
    "Ultimately, we'll try with new models adding three hidden layers."
   ]
  },
  {
   "cell_type": "markdown",
   "metadata": {},
   "source": [
    "## Neural Network with Three Hidden Layers##\n",
    "\n",
    "This time, modify the pipeline to use 6 fold cross validation and set respectly 10, 64, 128 and 256 neurons in each of three hidden layers."
   ]
  },
  {
   "cell_type": "code",
   "execution_count": 13,
   "metadata": {},
   "outputs": [
    {
     "name": "stdout",
     "output_type": "stream",
     "text": [
      "{10: 0.91152917131178, 64: 0.9476923076923077, 128: 0.9610442214790041}\n"
     ]
    },
    {
     "data": {
      "image/png": "[encoded data removed]",
      "text/plain": [
       "<Figure size 432x288 with 1 Axes>"
      ]
     },
     "metadata": {
      "needs_background": "light"
     },
     "output_type": "display_data"
    }
   ],
   "source": [
    "def train(n, train_features, train_labels):\n",
    "    nn = MLPClassifier(hidden_layer_sizes=(n,n,n), max_iter=1000)\n",
    "    nn.fit(train_features, train_labels)\n",
    "    return nn\n",
    "\n",
    "def test(train_model, test_features, test_labels):\n",
    "    test_predictions = train_model.predict(test_features)\n",
    "    test_accuracy = accuracy_score(test_labels, test_predictions)\n",
    "    return test_accuracy\n",
    "\n",
    "def cross_validate(n):\n",
    "    fold_accuracies = []\n",
    "    kf = KFold(n_splits=6, random_state=2)\n",
    "    for train_index, test_index in kf.split(features):\n",
    "        train_features, test_features = features.loc[train_index], features.loc[test_index]\n",
    "        train_labels, test_labels = labels.loc[train_index], labels.loc[test_index]\n",
    "        model = train(n, train_features, train_labels)\n",
    "        accuracy = test(model, test_features, test_labels)\n",
    "        fold_accuracies.append(accuracy)\n",
    "    return np.mean(fold_accuracies)\n",
    "\n",
    "# feeding 10, 64, 128 and 256 neurons into each layer\n",
    "neurons = [10, 64, 128]\n",
    "accuracies = {}\n",
    "for n in neurons:\n",
    "    acc = cross_validate(n)\n",
    "    accuracies[n] = acc\n",
    "\n",
    "print(accuracies)\n",
    "\n",
    "plt.plot(neurons, accuracies.values())\n",
    "plt.xlabel('number of neurons in each hidden layer')\n",
    "plt.ylabel('overall accuracy scores')\n",
    "plt.title('Overall accuracy scores of models with three hidden layers')\n",
    "plt.show()"
   ]
  },
  {
   "cell_type": "markdown",
   "metadata": {},
   "source": [
    "Using three hidden layers enhanced our accuracy to 96.1% even with 6-fold cross validation. Having more layers and more neurons tends to improve the network's performance."
   ]
  },
  {
   "cell_type": "markdown",
   "metadata": {},
   "source": [
    "## Activation functions ##\n",
    "\n",
    "We're going to add different activation functions in the three-hidden-layer network models to see if the accuracies improve."
   ]
  },
  {
   "cell_type": "code",
   "execution_count": 16,
   "metadata": {},
   "outputs": [
    {
     "name": "stdout",
     "output_type": "stream",
     "text": [
      "{10: 0.8413991081382387, 64: 0.933221850613155, 128: 0.9443571163136381, 256: 0.9527053140096619}\n"
     ]
    },
    {
     "data": {
      "image/png": "[encoded data removed]",
      "text/plain": [
       "<Figure size 432x288 with 1 Axes>"
      ]
     },
     "metadata": {
      "needs_background": "light"
     },
     "output_type": "display_data"
    }
   ],
   "source": [
    "# Activate sigmoid function\n",
    "def train(n, train_features, train_labels):\n",
    "    nn = MLPClassifier(hidden_layer_sizes=(n,n,n), activation='logistic', max_iter=5000)\n",
    "    nn.fit(train_features, train_labels)\n",
    "    return nn\n",
    "\n",
    "def test(train_model, test_features, test_labels):\n",
    "    test_predictions = train_model.predict(test_features)\n",
    "    test_accuracy = accuracy_score(test_labels, test_predictions)\n",
    "    return test_accuracy\n",
    "\n",
    "def cross_validate(n):\n",
    "    fold_accuracies = []\n",
    "    kf = KFold(n_splits=6, random_state=2)\n",
    "    for train_index, test_index in kf.split(features):\n",
    "        train_features, test_features = features.loc[train_index], features.loc[test_index]\n",
    "        train_labels, test_labels = labels.loc[train_index], labels.loc[test_index]\n",
    "        model = train(n, train_features, train_labels)\n",
    "        accuracy = test(model, test_features, test_labels)\n",
    "        fold_accuracies.append(accuracy)\n",
    "    return np.mean(fold_accuracies)\n",
    "\n",
    "neurons = [10, 64, 128, 256]\n",
    "accuracies = {}\n",
    "for n in neurons:\n",
    "    acc = cross_validate(n)\n",
    "    accuracies[n] = acc\n",
    "\n",
    "print(accuracies)\n",
    "\n",
    "plt.plot(neurons, accuracies.values())\n",
    "plt.xlabel('number of neurons in each hidden layer')\n",
    "plt.ylabel('overall accuracy scores')\n",
    "plt.title('Overall accuracy scores of models with three hidden layers \\nSigmoid function activated')\n",
    "plt.show()"
   ]
  },
  {
   "cell_type": "code",
   "execution_count": 17,
   "metadata": {},
   "outputs": [
    {
     "name": "stdout",
     "output_type": "stream",
     "text": [
      "{10: 0.9120810107766629, 64: 0.9510497956150131, 128: 0.954362690449647, 256: 0.957712746191007}\n"
     ]
    },
    {
     "data": {
      "image/png": "[encoded data removed]",
      "text/plain": [
       "<Figure size 432x288 with 1 Axes>"
      ]
     },
     "metadata": {
      "needs_background": "light"
     },
     "output_type": "display_data"
    }
   ],
   "source": [
    "# Activate reLU function\n",
    "def train(n, train_features, train_labels):\n",
    "    nn = MLPClassifier(hidden_layer_sizes=(n,n,n), activation='relu', max_iter=5000)\n",
    "    nn.fit(train_features, train_labels)\n",
    "    return nn\n",
    "\n",
    "def test(train_model, test_features, test_labels):\n",
    "    test_predictions = train_model.predict(test_features)\n",
    "    test_accuracy = accuracy_score(test_labels, test_predictions)\n",
    "    return test_accuracy\n",
    "\n",
    "def cross_validate(n):\n",
    "    fold_accuracies = []\n",
    "    kf = KFold(n_splits=6, random_state=2)\n",
    "    for train_index, test_index in kf.split(features):\n",
    "        train_features, test_features = features.loc[train_index], features.loc[test_index]\n",
    "        train_labels, test_labels = labels.loc[train_index], labels.loc[test_index]\n",
    "        model = train(n, train_features, train_labels)\n",
    "        accuracy = test(model, test_features, test_labels)\n",
    "        fold_accuracies.append(accuracy)\n",
    "    return np.mean(fold_accuracies)\n",
    "\n",
    "neurons = [10, 64, 128, 256]\n",
    "accuracies = {}\n",
    "for n in neurons:\n",
    "    acc = cross_validate(n)\n",
    "    accuracies[n] = acc\n",
    "\n",
    "print(accuracies)\n",
    "\n",
    "plt.plot(neurons, accuracies.values())\n",
    "plt.xlabel('number of neurons in each hidden layer')\n",
    "plt.ylabel('overall accuracy scores')\n",
    "plt.title('Overall accuracy scores of models with three hidden layers \\nReLU function activated')\n",
    "plt.show()"
   ]
  },
  {
   "cell_type": "code",
   "execution_count": 18,
   "metadata": {},
   "outputs": [
    {
     "name": "stdout",
     "output_type": "stream",
     "text": [
      "{10: 0.856462281679673, 64: 0.9326755852842811, 128: 0.95603121516165, 256: 0.9638294314381272}\n"
     ]
    },
    {
     "data": {
      "image/png": "[encoded data removed]",
      "text/plain": [
       "<Figure size 432x288 with 1 Axes>"
      ]
     },
     "metadata": {
      "needs_background": "light"
     },
     "output_type": "display_data"
    }
   ],
   "source": [
    "# Activate tanh function\n",
    "def train(n, train_features, train_labels):\n",
    "    nn = MLPClassifier(hidden_layer_sizes=(n,n,n), activation='tanh', max_iter=5000)\n",
    "    nn.fit(train_features, train_labels)\n",
    "    return nn\n",
    "\n",
    "def test(train_model, test_features, test_labels):\n",
    "    test_predictions = train_model.predict(test_features)\n",
    "    test_accuracy = accuracy_score(test_labels, test_predictions)\n",
    "    return test_accuracy\n",
    "\n",
    "def cross_validate(n):\n",
    "    fold_accuracies = []\n",
    "    kf = KFold(n_splits=6, random_state=2)\n",
    "    for train_index, test_index in kf.split(features):\n",
    "        train_features, test_features = features.loc[train_index], features.loc[test_index]\n",
    "        train_labels, test_labels = labels.loc[train_index], labels.loc[test_index]\n",
    "        model = train(n, train_features, train_labels)\n",
    "        accuracy = test(model, test_features, test_labels)\n",
    "        fold_accuracies.append(accuracy)\n",
    "    return np.mean(fold_accuracies)\n",
    "\n",
    "neurons = [10, 64, 128, 256]\n",
    "accuracies = {}\n",
    "for n in neurons:\n",
    "    acc = cross_validate(n)\n",
    "    accuracies[n] = acc\n",
    "\n",
    "print(accuracies)\n",
    "\n",
    "plt.plot(neurons, accuracies.values())\n",
    "plt.xlabel('number of neurons in each hidden layer')\n",
    "plt.ylabel('overall accuracy scores')\n",
    "plt.title('Overall accuracy scores of models with three hidden layers \\ntanh function activated')\n",
    "plt.show()"
   ]
  },
  {
   "cell_type": "markdown",
   "metadata": {},
   "source": [
    "It is likely that the `tanh` function improved the performance's model to 96.3%, whereas the `sigmoid` and `logistic` aren't very helpful in our case.\n",
    "\n",
    "We decide to keep the `tanh` function activated inside our models to visualizing weights. "
   ]
  },
  {
   "cell_type": "markdown",
   "metadata": {},
   "source": [
    "## Visualizing of MLP weights on MNIST##"
   ]
  },
  {
   "cell_type": "code",
   "execution_count": 78,
   "metadata": {
    "scrolled": false
   },
   "outputs": [
    {
     "name": "stdout",
     "output_type": "stream",
     "text": [
      "Iteration 1, loss = 1.83105169\n",
      "Iteration 2, loss = 0.52170278\n",
      "Iteration 3, loss = 0.20658216\n",
      "Iteration 4, loss = 0.08588203\n",
      "Iteration 5, loss = 0.04762411\n",
      "Iteration 6, loss = 0.02276279\n",
      "Iteration 7, loss = 0.01347045\n",
      "Iteration 8, loss = 0.01029372\n",
      "Iteration 9, loss = 0.00788155\n",
      "Iteration 10, loss = 0.00406572\n",
      "Iteration 11, loss = 0.00292906\n",
      "Iteration 12, loss = 0.00244424\n",
      "Iteration 13, loss = 0.00205720\n",
      "Iteration 14, loss = 0.00181463\n",
      "Iteration 15, loss = 0.00162890\n",
      "Iteration 16, loss = 0.00149554\n",
      "Iteration 17, loss = 0.00138573\n",
      "Iteration 18, loss = 0.00130237\n",
      "Iteration 19, loss = 0.00123165\n",
      "Iteration 20, loss = 0.00116913\n",
      "Iteration 21, loss = 0.00111241\n",
      "Iteration 22, loss = 0.00106177\n",
      "Iteration 23, loss = 0.00101866\n",
      "Iteration 24, loss = 0.00098152\n",
      "Iteration 25, loss = 0.00094493\n",
      "Iteration 26, loss = 0.00091268\n",
      "Iteration 27, loss = 0.00088355\n",
      "Iteration 28, loss = 0.00085421\n",
      "Iteration 29, loss = 0.00082848\n",
      "Iteration 30, loss = 0.00080366\n",
      "Iteration 31, loss = 0.00078066\n",
      "Iteration 32, loss = 0.00075950\n",
      "Iteration 33, loss = 0.00073890\n",
      "Iteration 34, loss = 0.00072024\n",
      "Iteration 35, loss = 0.00070162\n",
      "Iteration 36, loss = 0.00068392\n",
      "Iteration 37, loss = 0.00066882\n",
      "Iteration 38, loss = 0.00065363\n",
      "Iteration 39, loss = 0.00063913\n",
      "Iteration 40, loss = 0.00062505\n",
      "Iteration 41, loss = 0.00061171\n",
      "Iteration 42, loss = 0.00059951\n",
      "Iteration 43, loss = 0.00058770\n",
      "Iteration 44, loss = 0.00057590\n",
      "Iteration 45, loss = 0.00056409\n",
      "Iteration 46, loss = 0.00055381\n",
      "Iteration 47, loss = 0.00054342\n",
      "Iteration 48, loss = 0.00053370\n",
      "Iteration 49, loss = 0.00052416\n",
      "Iteration 50, loss = 0.00051507\n",
      "Iteration 51, loss = 0.00050637\n",
      "Iteration 52, loss = 0.00049816\n",
      "Iteration 53, loss = 0.00048993\n",
      "Iteration 54, loss = 0.00048199\n",
      "Iteration 55, loss = 0.00047429\n",
      "Iteration 56, loss = 0.00046695\n",
      "Iteration 57, loss = 0.00045979\n",
      "Iteration 58, loss = 0.00045269\n",
      "Iteration 59, loss = 0.00044637\n",
      "Iteration 60, loss = 0.00044004\n",
      "Iteration 61, loss = 0.00043358\n",
      "Iteration 62, loss = 0.00042754\n",
      "Iteration 63, loss = 0.00042158\n",
      "Iteration 64, loss = 0.00041583\n",
      "Iteration 65, loss = 0.00041012\n",
      "Iteration 66, loss = 0.00040458\n",
      "Iteration 67, loss = 0.00039933\n",
      "Iteration 68, loss = 0.00039425\n",
      "Iteration 69, loss = 0.00038900\n",
      "Iteration 70, loss = 0.00038420\n",
      "Iteration 71, loss = 0.00037925\n",
      "Iteration 72, loss = 0.00037466\n",
      "Iteration 73, loss = 0.00037003\n",
      "Iteration 74, loss = 0.00036537\n",
      "Iteration 75, loss = 0.00036114\n",
      "Iteration 76, loss = 0.00035699\n",
      "Iteration 77, loss = 0.00035280\n",
      "Iteration 78, loss = 0.00034895\n",
      "Iteration 79, loss = 0.00034476\n",
      "Iteration 80, loss = 0.00034107\n",
      "Iteration 81, loss = 0.00033718\n",
      "Iteration 82, loss = 0.00033362\n",
      "Iteration 83, loss = 0.00033005\n",
      "Iteration 84, loss = 0.00032645\n",
      "Iteration 85, loss = 0.00032297\n",
      "Iteration 86, loss = 0.00031971\n",
      "Iteration 87, loss = 0.00031626\n",
      "Iteration 88, loss = 0.00031308\n",
      "Iteration 89, loss = 0.00030983\n",
      "Iteration 90, loss = 0.00030681\n",
      "Iteration 91, loss = 0.00030379\n",
      "Iteration 92, loss = 0.00030068\n",
      "Iteration 93, loss = 0.00029771\n",
      "Iteration 94, loss = 0.00029487\n",
      "Iteration 95, loss = 0.00029197\n",
      "Iteration 96, loss = 0.00028927\n",
      "Iteration 97, loss = 0.00028657\n",
      "Iteration 98, loss = 0.00028394\n",
      "Iteration 99, loss = 0.00028129\n",
      "Iteration 100, loss = 0.00027868\n",
      "Iteration 101, loss = 0.00027620\n",
      "Iteration 102, loss = 0.00027372\n",
      "Iteration 103, loss = 0.00027130\n",
      "Iteration 104, loss = 0.00026885\n",
      "Iteration 105, loss = 0.00026665\n",
      "Iteration 106, loss = 0.00026432\n",
      "Iteration 107, loss = 0.00026209\n",
      "Iteration 108, loss = 0.00025995\n",
      "Iteration 109, loss = 0.00025772\n",
      "Iteration 110, loss = 0.00025572\n",
      "Iteration 111, loss = 0.00025347\n",
      "Iteration 112, loss = 0.00025142\n",
      "Iteration 113, loss = 0.00024927\n",
      "Iteration 114, loss = 0.00024732\n",
      "Iteration 115, loss = 0.00024533\n",
      "Iteration 116, loss = 0.00024341\n",
      "Iteration 117, loss = 0.00024147\n",
      "Iteration 118, loss = 0.00023951\n",
      "Iteration 119, loss = 0.00023764\n",
      "Iteration 120, loss = 0.00023584\n",
      "Iteration 121, loss = 0.00023405\n",
      "Iteration 122, loss = 0.00023221\n",
      "Iteration 123, loss = 0.00023051\n",
      "Iteration 124, loss = 0.00022878\n",
      "Iteration 125, loss = 0.00022708\n",
      "Iteration 126, loss = 0.00022539\n",
      "Iteration 127, loss = 0.00022377\n",
      "Iteration 128, loss = 0.00022218\n",
      "Iteration 129, loss = 0.00022056\n",
      "Iteration 130, loss = 0.00021899\n",
      "Iteration 131, loss = 0.00021737\n",
      "Iteration 132, loss = 0.00021586\n",
      "Iteration 133, loss = 0.00021435\n",
      "Iteration 134, loss = 0.00021294\n",
      "Iteration 135, loss = 0.00021147\n",
      "Iteration 136, loss = 0.00021001\n",
      "Iteration 137, loss = 0.00020855\n",
      "Iteration 138, loss = 0.00020719\n",
      "Iteration 139, loss = 0.00020578\n",
      "Iteration 140, loss = 0.00020442\n",
      "Iteration 141, loss = 0.00020307\n",
      "Iteration 142, loss = 0.00020179\n",
      "Iteration 143, loss = 0.00020040\n",
      "Iteration 144, loss = 0.00019920\n",
      "Iteration 145, loss = 0.00019784\n",
      "Iteration 146, loss = 0.00019659\n",
      "Iteration 147, loss = 0.00019539\n",
      "Iteration 148, loss = 0.00019409\n",
      "Iteration 149, loss = 0.00019293\n",
      "Iteration 150, loss = 0.00019174\n",
      "Iteration 151, loss = 0.00019052\n",
      "Iteration 152, loss = 0.00018942\n",
      "Iteration 153, loss = 0.00018822\n",
      "Iteration 154, loss = 0.00018700\n",
      "Iteration 155, loss = 0.00018589\n",
      "Iteration 156, loss = 0.00018475\n",
      "Iteration 157, loss = 0.00018365\n",
      "Iteration 158, loss = 0.00018255\n",
      "Iteration 159, loss = 0.00018151\n",
      "Iteration 160, loss = 0.00018039\n",
      "Iteration 161, loss = 0.00017933\n",
      "Iteration 162, loss = 0.00017828\n",
      "Iteration 163, loss = 0.00017726\n",
      "Iteration 164, loss = 0.00017626\n",
      "Iteration 165, loss = 0.00017522\n",
      "Iteration 166, loss = 0.00017423\n",
      "Iteration 167, loss = 0.00017327\n",
      "Iteration 168, loss = 0.00017228\n",
      "Iteration 169, loss = 0.00017129\n",
      "Iteration 170, loss = 0.00017037\n",
      "Iteration 171, loss = 0.00016937\n",
      "Iteration 172, loss = 0.00016851\n",
      "Iteration 173, loss = 0.00016756\n",
      "Iteration 174, loss = 0.00016666\n",
      "Iteration 175, loss = 0.00016572\n",
      "Iteration 176, loss = 0.00016484\n",
      "Iteration 177, loss = 0.00016397\n",
      "Iteration 178, loss = 0.00016306\n",
      "Iteration 179, loss = 0.00016225\n",
      "Iteration 180, loss = 0.00016140\n",
      "Iteration 181, loss = 0.00016055\n",
      "Iteration 182, loss = 0.00015972\n",
      "Training loss did not improve more than tol=0.000001 for 10 consecutive epochs. Stopping.\n",
      "Training set score: 1.000000\n",
      "Test set score: 0.948832\n"
     ]
    },
    {
     "data": {
      "text/plain": [
       "<Figure size 1440x1440 with 0 Axes>"
      ]
     },
     "metadata": {},
     "output_type": "display_data"
    },
    {
     "data": {
      "image/png": "[encoded data removed]",
      "text/plain": [
       "<Figure size 432x288 with 16 Axes>"
      ]
     },
     "metadata": {},
     "output_type": "display_data"
    }
   ],
   "source": [
    "# mlp = MLPClassifier(hidden_layer_sizes=(100, 100), max_iter=400, alpha=1e-4,\n",
    "#                     solver='sgd', verbose=10, tol=1e-4, random_state=1)\n",
    "mlp = MLPClassifier(hidden_layer_sizes=(130,130,130), activation='tanh', max_iter=1000, alpha=1e-6,\n",
    "                    solver='sgd', verbose=10, tol=1e-6, random_state=2,\n",
    "                    learning_rate_init=.1)\n",
    "\n",
    "mlp.fit(train_features, train_labels)\n",
    "print(\"Training set score: %f\" % mlp.score(train_features, train_labels))\n",
    "print(\"Test set score: %f\" % mlp.score(test_features, test_labels))\n",
    "\n",
    "plt.figure(figsize=(20,20))\n",
    "fig, axes = plt.subplots(4, 4)\n",
    "# use global min / max to ensure all weights are shown on the same scale\n",
    "vmin, vmax = mlp.coefs_[0].min(), mlp.coefs_[0].max()\n",
    "for coef, ax in zip(mlp.coefs_[0].T, axes.ravel()):\n",
    "    ax.imshow(coef.reshape(8, 8), cmap=plt.cm.gray, vmin=.55 * vmin,\n",
    "               vmax=.55 * vmax)\n",
    "    ax.set_xticks(())\n",
    "    ax.set_yticks(())\n",
    "\n",
    "plt.show()"
   ]
  }
 ],
 "metadata": {
  "kernelspec": {
   "display_name": "Python 3",
   "language": "python",
   "name": "python3"
  },
  "language_info": {
   "codemirror_mode": {
    "name": "ipython",
    "version": 3
   },
   "file_extension": ".py",
   "mimetype": "text/x-python",
   "name": "python",
   "nbconvert_exporter": "python",
   "pygments_lexer": "ipython3",
   "version": "3.7.1"
  }
 },
 "nbformat": 4,
 "nbformat_minor": 2
}
